{
 "cells": [
  {
   "cell_type": "code",
   "execution_count": 1,
   "metadata": {
    "scrolled": true
   },
   "outputs": [],
   "source": [
    "#!pip install tensorflow\n",
    "#!pip install keras\n",
    "#!pip install pandas-datareader\n",
    "import tensorflow\n",
    "import keras\n",
    "#!pip install pandas\n",
    "import pandas\n",
    "import numpy"
   ]
  },
  {
   "cell_type": "code",
   "execution_count": 2,
   "metadata": {},
   "outputs": [],
   "source": [
    "import pandas_datareader.data as web\n",
    "import pandas as pd\n",
    "import datetime\n",
    "import numpy as np\n",
    "import matplotlib.pyplot as plt\n",
    "%matplotlib inline\n",
    "from numpy import array\n",
    "import sklearn\n",
    "from sklearn import preprocessing\n",
    "from sklearn.tree import DecisionTreeRegressor\n",
    "from sklearn.linear_model import LinearRegression\n",
    "from sklearn.model_selection import train_test_split\n",
    "from sklearn.pipeline import Pipeline\n",
    "from sklearn.linear_model import HuberRegressor\n",
    "from sklearn.preprocessing import MinMaxScaler\n",
    "import tensorflow as tf\n",
    "from keras.models import Sequential\n",
    "from keras.layers import Dense\n",
    "from keras.layers import LSTM\n"
   ]
  },
  {
   "cell_type": "code",
   "execution_count": 3,
   "metadata": {},
   "outputs": [],
   "source": [
    "#start = datetime.datetime(2014, 1, 1)\n",
    "#end = datetime.datetime(2020, 7, 24)"
   ]
  },
  {
   "cell_type": "code",
   "execution_count": 4,
   "metadata": {},
   "outputs": [],
   "source": [
    "###axisgold = web.DataReader(\"AXISGOLD.NS\", 'yahoo', start, end)\n",
    "###bslgoldetf = web.DataReader(\"BSLGOLDETF.NS\", 'yahoo', start, end)\n",
    "#cangold = web.DataReader(\"CANGOLD.BO\", 'yahoo', start, end)\n",
    "#hfcmgetf = web.DataReader(\"HFCMFGETF.BO\", 'yahoo', start, end)\n",
    "#ipgetf = web.DataReader(\"IPGETF.BO\", 'yahoo', start, end)\n",
    "###idbigold = web.DataReader(\"IDBIGOLD.NS\", 'yahoo', start, end)\n",
    "#kotakgold = web.DataReader(\"KOTAKGOLD.NS\", 'yahoo', start, end)\n",
    "###qgoldhalf = web.DataReader(\"QGOLDHALF.NS\", 'yahoo', start, end)\n",
    "#relgold = web.DataReader(\"RELGOLD.BO\", 'yahoo', start, end)\n",
    "#religarego = web.DataReader(\"RELIGAREGO.BO\", 'yahoo', start, end)\n",
    "#setfgold = web.DataReader(\"SETFGOLD.NS\", 'yahoo', start, end)\n",
    "###goldshare = web.DataReader(\"GOLDSHARE.NS\", 'yahoo', start, end)\n",
    "###goldbees = web.DataReader(\"GOLDBEES.NS\", 'yahoo', start, end)"
   ]
  },
  {
   "cell_type": "code",
   "execution_count": 5,
   "metadata": {
    "scrolled": true
   },
   "outputs": [],
   "source": [
    "kotakgold = pd.read_csv('KOTAKGOLD.csv')\n",
    "###axisgold.to_csv('AXISGOLD.csv')\n",
    "###bslgoldetf.to_csv('BSLGOLDETF.csv')\n",
    "###idbigold.to_csv('IDBIGOLD.csv')\n",
    "kotakgold.to_csv('KOTAKGOLD.csv')\n",
    "###qgoldhalf.to_csv('QGOLDHALF.csv')\n",
    "#setfgold.to_csv('SETFGOLD.csv')\n",
    "####goldshare.to_csv('GOLDSHARE.csv')\n",
    "###goldbees.to_csv('GOLDBEES.csv')"
   ]
  },
  {
   "cell_type": "code",
   "execution_count": 6,
   "metadata": {},
   "outputs": [
    {
     "data": {
      "text/plain": [
       "<matplotlib.legend.Legend at 0x7f9067fd8c88>"
      ]
     },
     "execution_count": 6,
     "metadata": {},
     "output_type": "execute_result"
    },
    {
     "data": {
      "image/png": "[encoded data removed]",
      "text/plain": [
       "<Figure size 432x288 with 1 Axes>"
      ]
     },
     "metadata": {
      "needs_background": "light"
     },
     "output_type": "display_data"
    }
   ],
   "source": [
    "###axisgold['Open'].plot(label = 'axisgold', figsize= (15,7))\n",
    "###bslgoldetf['Open'].plot(label = 'bslgoldetf')\n",
    "###idbigold['Open'].plot(label = 'idbigold')\n",
    "kotakgold['Open'].plot(label = 'kotakgold')\n",
    "###qgoldhalf['Open'].plot(label = 'qgoldhalf')\n",
    "###goldshare['Open'].plot(label = 'goldshare')\n",
    "###goldbees['Open'].plot(label = 'goldbees')\n",
    "plt.title('Gold ETF stock price')\n",
    "plt.legend()"
   ]
  },
  {
   "cell_type": "code",
   "execution_count": 7,
   "metadata": {},
   "outputs": [],
   "source": [
    "#We are going to predict the price of one Gold ETF below. Similarly all other predictions can also be made. Let us chose Axisgold ETF"
   ]
  },
  {
   "cell_type": "code",
   "execution_count": 8,
   "metadata": {},
   "outputs": [
    {
     "name": "stdout",
     "output_type": "stream",
     "text": [
      "(1611, 1)\n"
     ]
    },
    {
     "data": {
      "text/html": [
       "<div>\n",
       "<style scoped>\n",
       "    .dataframe tbody tr th:only-of-type {\n",
       "        vertical-align: middle;\n",
       "    }\n",
       "\n",
       "    .dataframe tbody tr th {\n",
       "        vertical-align: top;\n",
       "    }\n",
       "\n",
       "    .dataframe thead th {\n",
       "        text-align: right;\n",
       "    }\n",
       "</style>\n",
       "<table border=\"1\" class=\"dataframe\">\n",
       "  <thead>\n",
       "    <tr style=\"text-align: right;\">\n",
       "      <th></th>\n",
       "      <th>Adj Close</th>\n",
       "    </tr>\n",
       "  </thead>\n",
       "  <tbody>\n",
       "    <tr>\n",
       "      <th>1591</th>\n",
       "      <td>427.05</td>\n",
       "    </tr>\n",
       "    <tr>\n",
       "      <th>1592</th>\n",
       "      <td>430.85</td>\n",
       "    </tr>\n",
       "    <tr>\n",
       "      <th>1593</th>\n",
       "      <td>424.15</td>\n",
       "    </tr>\n",
       "    <tr>\n",
       "      <th>1594</th>\n",
       "      <td>423.80</td>\n",
       "    </tr>\n",
       "    <tr>\n",
       "      <th>1595</th>\n",
       "      <td>424.25</td>\n",
       "    </tr>\n",
       "    <tr>\n",
       "      <th>1596</th>\n",
       "      <td>425.30</td>\n",
       "    </tr>\n",
       "    <tr>\n",
       "      <th>1597</th>\n",
       "      <td>431.75</td>\n",
       "    </tr>\n",
       "    <tr>\n",
       "      <th>1598</th>\n",
       "      <td>434.60</td>\n",
       "    </tr>\n",
       "    <tr>\n",
       "      <th>1599</th>\n",
       "      <td>433.05</td>\n",
       "    </tr>\n",
       "    <tr>\n",
       "      <th>1600</th>\n",
       "      <td>433.90</td>\n",
       "    </tr>\n",
       "    <tr>\n",
       "      <th>1601</th>\n",
       "      <td>432.15</td>\n",
       "    </tr>\n",
       "    <tr>\n",
       "      <th>1602</th>\n",
       "      <td>433.20</td>\n",
       "    </tr>\n",
       "    <tr>\n",
       "      <th>1603</th>\n",
       "      <td>431.60</td>\n",
       "    </tr>\n",
       "    <tr>\n",
       "      <th>1604</th>\n",
       "      <td>429.60</td>\n",
       "    </tr>\n",
       "    <tr>\n",
       "      <th>1605</th>\n",
       "      <td>431.20</td>\n",
       "    </tr>\n",
       "    <tr>\n",
       "      <th>1606</th>\n",
       "      <td>433.60</td>\n",
       "    </tr>\n",
       "    <tr>\n",
       "      <th>1607</th>\n",
       "      <td>440.00</td>\n",
       "    </tr>\n",
       "    <tr>\n",
       "      <th>1608</th>\n",
       "      <td>446.40</td>\n",
       "    </tr>\n",
       "    <tr>\n",
       "      <th>1609</th>\n",
       "      <td>449.75</td>\n",
       "    </tr>\n",
       "    <tr>\n",
       "      <th>1610</th>\n",
       "      <td>462.50</td>\n",
       "    </tr>\n",
       "  </tbody>\n",
       "</table>\n",
       "</div>"
      ],
      "text/plain": [
       "      Adj Close\n",
       "1591     427.05\n",
       "1592     430.85\n",
       "1593     424.15\n",
       "1594     423.80\n",
       "1595     424.25\n",
       "1596     425.30\n",
       "1597     431.75\n",
       "1598     434.60\n",
       "1599     433.05\n",
       "1600     433.90\n",
       "1601     432.15\n",
       "1602     433.20\n",
       "1603     431.60\n",
       "1604     429.60\n",
       "1605     431.20\n",
       "1606     433.60\n",
       "1607     440.00\n",
       "1608     446.40\n",
       "1609     449.75\n",
       "1610     462.50"
      ]
     },
     "execution_count": 8,
     "metadata": {},
     "output_type": "execute_result"
    }
   ],
   "source": [
    "# Select Adjusted close data\n",
    "data = kotakgold[['Adj Close']]\n",
    "print(data.shape)\n",
    "data[-20:]"
   ]
  },
  {
   "cell_type": "code",
   "execution_count": 9,
   "metadata": {},
   "outputs": [],
   "source": [
    "from sklearn.preprocessing import MinMaxScaler\n",
    "scaler=MinMaxScaler(feature_range=(0,1))\n",
    "data_scaled=scaler.fit_transform(np.array(data).reshape(-1,1))"
   ]
  },
  {
   "cell_type": "code",
   "execution_count": 10,
   "metadata": {},
   "outputs": [
    {
     "name": "stdout",
     "output_type": "stream",
     "text": [
      "[[0.20843042]\n",
      " [0.21182344]\n",
      " [0.22668608]\n",
      " ...\n",
      " [0.93297252]\n",
      " [0.94691923]\n",
      " [1.        ]]\n"
     ]
    }
   ],
   "source": [
    "print(data_scaled)"
   ]
  },
  {
   "cell_type": "code",
   "execution_count": 11,
   "metadata": {},
   "outputs": [],
   "source": [
    "#Split data 80% training 20% testing\n",
    "\n",
    "training_size=int(len(data_scaled)*0.8)\n",
    "test_size=len(data_scaled)-training_size\n",
    "train_data,test_data=data_scaled[0:training_size],data_scaled[training_size:len(data)]"
   ]
  },
  {
   "cell_type": "code",
   "execution_count": 12,
   "metadata": {},
   "outputs": [
    {
     "data": {
      "text/plain": [
       "(1288, 323)"
      ]
     },
     "execution_count": 12,
     "metadata": {},
     "output_type": "execute_result"
    }
   ],
   "source": [
    "training_size,test_size"
   ]
  },
  {
   "cell_type": "code",
   "execution_count": 13,
   "metadata": {},
   "outputs": [
    {
     "data": {
      "text/plain": [
       "array([[0.20843042],\n",
       "       [0.21182344],\n",
       "       [0.22668608],\n",
       "       ...,\n",
       "       [0.24417156],\n",
       "       [0.24104917],\n",
       "       [0.23938379]])"
      ]
     },
     "execution_count": 13,
     "metadata": {},
     "output_type": "execute_result"
    }
   ],
   "source": [
    "train_data"
   ]
  },
  {
   "cell_type": "code",
   "execution_count": 14,
   "metadata": {},
   "outputs": [],
   "source": [
    "def create_dataset(dataset, time_step=1):\n",
    "    dataX, dataY = [], []\n",
    "    for i in range(len(dataset)-time_step-1):\n",
    "        a = dataset[i:(i+time_step), 0]   ###i=0, 0,1,2,3-----99   100 \n",
    "        dataX.append(a)\n",
    "        dataY.append(dataset[i + time_step, 0])\n",
    "    return numpy.array(dataX), numpy.array(dataY)"
   ]
  },
  {
   "cell_type": "code",
   "execution_count": 15,
   "metadata": {},
   "outputs": [],
   "source": [
    "#reshape into X=t,t+1,t+2,t+3 and Y=t+4\n",
    "time_step = 1\n",
    "x_train, y_train = create_dataset(train_data, time_step)\n",
    "x_test, y_test = create_dataset(test_data, time_step)\n",
    "#x_train, x_test, y_train, y_test = train_test_split(X, y, test_size = 0.2)"
   ]
  },
  {
   "cell_type": "code",
   "execution_count": 16,
   "metadata": {},
   "outputs": [],
   "source": [
    "#Regression coefficients\n",
    "x_train_lr = x_train\n",
    "y_train_lr = y_train\n",
    "x_test_lr = x_test\n",
    "y_test_lr = y_test"
   ]
  },
  {
   "cell_type": "code",
   "execution_count": 17,
   "metadata": {},
   "outputs": [
    {
     "name": "stdout",
     "output_type": "stream",
     "text": [
      "(1286, 1)\n",
      "(1286,)\n"
     ]
    },
    {
     "data": {
      "text/plain": [
       "(None, None)"
      ]
     },
     "execution_count": 17,
     "metadata": {},
     "output_type": "execute_result"
    }
   ],
   "source": [
    "print(x_train_lr.shape), print(y_train_lr.shape)"
   ]
  },
  {
   "cell_type": "code",
   "execution_count": 18,
   "metadata": {},
   "outputs": [
    {
     "name": "stdout",
     "output_type": "stream",
     "text": [
      "(321, 1)\n",
      "(321,)\n"
     ]
    },
    {
     "data": {
      "text/plain": [
       "(None, None)"
      ]
     },
     "execution_count": 18,
     "metadata": {},
     "output_type": "execute_result"
    }
   ],
   "source": [
    "print(x_test_lr.shape), print(y_test_lr.shape)\n"
   ]
  },
  {
   "cell_type": "code",
   "execution_count": 19,
   "metadata": {},
   "outputs": [
    {
     "data": {
      "text/plain": [
       "((1286, 1), (321, 1))"
      ]
     },
     "execution_count": 19,
     "metadata": {},
     "output_type": "execute_result"
    }
   ],
   "source": [
    "x_train_lr.shape, x_test_lr.shape"
   ]
  },
  {
   "cell_type": "code",
   "execution_count": 20,
   "metadata": {},
   "outputs": [
    {
     "data": {
      "text/plain": [
       "array([[0.20843042],\n",
       "       [0.21182344],\n",
       "       [0.22668608],\n",
       "       ...,\n",
       "       [0.24666938],\n",
       "       [0.24625316],\n",
       "       [0.24417156]])"
      ]
     },
     "execution_count": 20,
     "metadata": {},
     "output_type": "execute_result"
    }
   ],
   "source": [
    "x_train_lr"
   ]
  },
  {
   "cell_type": "code",
   "execution_count": 21,
   "metadata": {},
   "outputs": [
    {
     "data": {
      "text/plain": [
       "LinearRegression(copy_X=True, fit_intercept=True, n_jobs=None, normalize=False)"
      ]
     },
     "execution_count": 21,
     "metadata": {},
     "output_type": "execute_result"
    }
   ],
   "source": [
    "#Create models\n",
    "#Create decision tree model\n",
    "#modeltree = DecisionTreeRegressor()\n",
    "#modeltree.fit(x_train, y_train)\n",
    "\n",
    "#Create linear decision model\n",
    "modellr = LinearRegression()\n",
    "modellr.fit(x_train_lr, y_train_lr)"
   ]
  },
  {
   "cell_type": "code",
   "execution_count": 22,
   "metadata": {},
   "outputs": [
    {
     "name": "stdout",
     "output_type": "stream",
     "text": [
      "Slope:  0.9922479833026986\n",
      "Intercept:  0.0012276413269114994\n"
     ]
    },
    {
     "name": "stderr",
     "output_type": "stream",
     "text": [
      "/home/ec2-user/anaconda3/envs/pytorch_p36/lib/python3.6/site-packages/ipykernel/__main__.py:2: DeprecationWarning: np.asscalar(a) is deprecated since NumPy v1.16, use a.item() instead\n",
      "  from ipykernel import kernelapp as app\n"
     ]
    }
   ],
   "source": [
    "# The coefficient\n",
    "print('Slope: ', np.asscalar(np.squeeze(modellr.coef_)))\n",
    "# The Intercept\n",
    "print('Intercept: ', modellr.intercept_)"
   ]
  },
  {
   "cell_type": "code",
   "execution_count": 23,
   "metadata": {},
   "outputs": [
    {
     "data": {
      "image/png": "[encoded data removed]",
      "text/plain": [
       "<Figure size 1152x720 with 1 Axes>"
      ]
     },
     "metadata": {
      "needs_background": "light"
     },
     "output_type": "display_data"
    }
   ],
   "source": [
    "# Train set graph\n",
    "plt.figure(1, figsize=(16,10))\n",
    "plt.title('Linear Regression | Price vs Time')\n",
    "plt.scatter(x_train_lr, y_train_lr, edgecolor='w', label='Actual Price')\n",
    "plt.plot(x_train_lr, modellr.predict(x_train_lr), color='r', label='Predicted Price')\n",
    "plt.xlabel('Integer Date')\n",
    "plt.ylabel('Stock Price')\n",
    "plt.legend()\n",
    "plt.show()"
   ]
  },
  {
   "cell_type": "code",
   "execution_count": 24,
   "metadata": {},
   "outputs": [
    {
     "data": {
      "text/plain": [
       "array([[0.23459613],\n",
       "       [0.23022483],\n",
       "       [0.23168197],\n",
       "       [0.24396333],\n",
       "       [0.24292253],\n",
       "       [0.24562858],\n",
       "       [0.24833476],\n",
       "       [0.24895922],\n",
       "       [0.24708573],\n",
       "       [0.24271442],\n",
       "       [0.23584517],\n",
       "       [0.23730219],\n",
       "       [0.22855957],\n",
       "       [0.23875933],\n",
       "       [0.23480437],\n",
       "       [0.23792677],\n",
       "       [0.24708573],\n",
       "       [0.24354698],\n",
       "       [0.24895922],\n",
       "       [0.23709408],\n",
       "       [0.23938379],\n",
       "       [0.24583682],\n",
       "       [0.25083258],\n",
       "       [0.23834299],\n",
       "       [0.24417156],\n",
       "       [0.24125728],\n",
       "       [0.24208997],\n",
       "       [0.25562036],\n",
       "       [0.25249796],\n",
       "       [0.24875098],\n",
       "       [0.23813488],\n",
       "       [0.22731054],\n",
       "       [0.22439638],\n",
       "       [0.2237718 ],\n",
       "       [0.22606163],\n",
       "       [0.23084928],\n",
       "       [0.23084928],\n",
       "       [0.23501248],\n",
       "       [0.23480437],\n",
       "       [0.23043294],\n",
       "       [0.24271442],\n",
       "       [0.25208161],\n",
       "       [0.25666116],\n",
       "       [0.26311406],\n",
       "       [0.26457121],\n",
       "       [0.25874276],\n",
       "       [0.24916733],\n",
       "       [0.25915897],\n",
       "       [0.26144881],\n",
       "       [0.27726891],\n",
       "       [0.28601165],\n",
       "       [0.27643634],\n",
       "       [0.27268937],\n",
       "       [0.29954204],\n",
       "       [0.30203998],\n",
       "       [0.31015814],\n",
       "       [0.32743551],\n",
       "       [0.30495415],\n",
       "       [0.29891759],\n",
       "       [0.31078272],\n",
       "       [0.28684434],\n",
       "       [0.2897585 ],\n",
       "       [0.31015814],\n",
       "       [0.30058284],\n",
       "       [0.31348878],\n",
       "       [0.32389677],\n",
       "       [0.31286432],\n",
       "       [0.31494592],\n",
       "       [0.33118236],\n",
       "       [0.33076602],\n",
       "       [0.33534556],\n",
       "       [0.33534556],\n",
       "       [0.32930888],\n",
       "       [0.34450452],\n",
       "       [0.36781845],\n",
       "       [0.36011651],\n",
       "       [0.34762692],\n",
       "       [0.34325561],\n",
       "       [0.34388007],\n",
       "       [0.33805162],\n",
       "       [0.33888431],\n",
       "       [0.34637801],\n",
       "       [0.34658612],\n",
       "       [0.33721892],\n",
       "       [0.36261445],\n",
       "       [0.43442961],\n",
       "       [0.41902586],\n",
       "       [0.45191509],\n",
       "       [0.43900915],\n",
       "       [0.44671109],\n",
       "       [0.49188181],\n",
       "       [0.46502914],\n",
       "       [0.46315565],\n",
       "       [0.46461279],\n",
       "       [0.46648628],\n",
       "       [0.47252284],\n",
       "       [0.47647793],\n",
       "       [0.46232308],\n",
       "       [0.50520396],\n",
       "       [0.50249791],\n",
       "       [0.50707745],\n",
       "       [0.51998339],\n",
       "       [0.49583677],\n",
       "       [0.5139467 ],\n",
       "       [0.53372189],\n",
       "       [0.54433799],\n",
       "       [0.49999997],\n",
       "       [0.49250626],\n",
       "       [0.47626982],\n",
       "       [0.46315565],\n",
       "       [0.46065783],\n",
       "       [0.46502914],\n",
       "       [0.47356364],\n",
       "       [0.46398834],\n",
       "       [0.4510824 ],\n",
       "       [0.44733555],\n",
       "       [0.46253119],\n",
       "       [0.46357199],\n",
       "       [0.47606158],\n",
       "       [0.45358034],\n",
       "       [0.46273943],\n",
       "       [0.46794342],\n",
       "       [0.44858445],\n",
       "       [0.47543713],\n",
       "       [0.48438798],\n",
       "       [0.48709403],\n",
       "       [0.48293083],\n",
       "       [0.49313072],\n",
       "       [0.49646122],\n",
       "       [0.49687757],\n",
       "       [0.50166522],\n",
       "       [0.49146546],\n",
       "       [0.49417152],\n",
       "       [0.49313072],\n",
       "       [0.49146546],\n",
       "       [0.49271437],\n",
       "       [0.49666946],\n",
       "       [0.50915905],\n",
       "       [0.48813483],\n",
       "       [0.48438798],\n",
       "       [0.49500421],\n",
       "       [0.50374682],\n",
       "       [0.50187346],\n",
       "       [0.49958362],\n",
       "       [0.48730227],\n",
       "       [0.49042466],\n",
       "       [0.47293919],\n",
       "       [0.47085759],\n",
       "       [0.47106582],\n",
       "       [0.47751873],\n",
       "       [0.47273108],\n",
       "       [0.47106582],\n",
       "       [0.47460444],\n",
       "       [0.48126558],\n",
       "       [0.47439633],\n",
       "       [0.47918398],\n",
       "       [0.46419645],\n",
       "       [0.46128228],\n",
       "       [0.46419645],\n",
       "       [0.46461279],\n",
       "       [0.46690263],\n",
       "       [0.46919233],\n",
       "       [0.46794342],\n",
       "       [0.47668604],\n",
       "       [0.47731062],\n",
       "       [0.47793507],\n",
       "       [0.46835964],\n",
       "       [0.47085759],\n",
       "       [0.47710238],\n",
       "       [0.47044124],\n",
       "       [0.47564524],\n",
       "       [0.47252284],\n",
       "       [0.47439633],\n",
       "       [0.47502078],\n",
       "       [0.47127393],\n",
       "       [0.47418822],\n",
       "       [0.48001667],\n",
       "       [0.48688592],\n",
       "       [0.50353871],\n",
       "       [0.50104077],\n",
       "       [0.50395506],\n",
       "       [0.51665276],\n",
       "       [0.5137386 ],\n",
       "       [0.5160283 ],\n",
       "       [0.54412989],\n",
       "       [0.58055786],\n",
       "       [0.55141548],\n",
       "       [0.57472941],\n",
       "       [0.54059114],\n",
       "       [0.539134  ],\n",
       "       [0.53309744],\n",
       "       [0.53247298],\n",
       "       [0.53934223],\n",
       "       [0.53726064],\n",
       "       [0.53726064],\n",
       "       [0.54184018],\n",
       "       [0.54371354],\n",
       "       [0.53871778],\n",
       "       [0.54267274],\n",
       "       [0.54600338],\n",
       "       [0.56806827],\n",
       "       [0.56890096],\n",
       "       [0.56328062],\n",
       "       [0.57868437],\n",
       "       [0.56931718],\n",
       "       [0.57098256],\n",
       "       [0.56140713],\n",
       "       [0.54392178],\n",
       "       [0.55682759],\n",
       "       [0.55974188],\n",
       "       [0.56910907],\n",
       "       [0.56661113],\n",
       "       [0.55953377],\n",
       "       [0.56681936],\n",
       "       [0.56910907],\n",
       "       [0.57223147],\n",
       "       [0.58118232],\n",
       "       [0.59929225],\n",
       "       [0.59991671],\n",
       "       [0.67651951],\n",
       "       [0.64238137],\n",
       "       [0.63717737],\n",
       "       [0.63821817],\n",
       "       [0.64508742],\n",
       "       [0.62468778],\n",
       "       [0.62447954],\n",
       "       [0.66132387],\n",
       "       [0.66069941],\n",
       "       [0.70212328],\n",
       "       [0.68380511],\n",
       "       [0.67568695],\n",
       "       [0.66507072],\n",
       "       [0.61615315],\n",
       "       [0.58701077],\n",
       "       [0.54746039],\n",
       "       [0.57389672],\n",
       "       [0.539134  ],\n",
       "       [0.56494587],\n",
       "       [0.54163194],\n",
       "       [0.61719395],\n",
       "       [0.64300582],\n",
       "       [0.64050788],\n",
       "       [0.6688177 ],\n",
       "       [0.71711069],\n",
       "       [0.6856786 ],\n",
       "       [0.75624484],\n",
       "       [0.74687765],\n",
       "       [0.76124063],\n",
       "       [0.75124896],\n",
       "       [0.78580349],\n",
       "       [0.9061199 ],\n",
       "       [0.9082015 ],\n",
       "       [0.92360533],\n",
       "       [0.86573688],\n",
       "       [0.85928393],\n",
       "       [0.86074105],\n",
       "       [0.82660283],\n",
       "       [0.84929225],\n",
       "       [0.86427977],\n",
       "       [0.84783514],\n",
       "       [0.84908409],\n",
       "       [0.8345129 ],\n",
       "       [0.83305578],\n",
       "       [0.84762698],\n",
       "       [0.82805995],\n",
       "       [0.80828476],\n",
       "       [0.79100749],\n",
       "       [0.81369692],\n",
       "       [0.811199  ],\n",
       "       [0.80620316],\n",
       "       [0.79475437],\n",
       "       [0.81036636],\n",
       "       [0.82368859],\n",
       "       [0.85199833],\n",
       "       [0.80120732],\n",
       "       [0.82514571],\n",
       "       [0.80870108],\n",
       "       [0.81057452],\n",
       "       [0.79683597],\n",
       "       [0.77352206],\n",
       "       [0.80037469],\n",
       "       [0.79517069],\n",
       "       [0.80266444],\n",
       "       [0.800791  ],\n",
       "       [0.78476269],\n",
       "       [0.78184846],\n",
       "       [0.79433805],\n",
       "       [0.77789342],\n",
       "       [0.78601165],\n",
       "       [0.79600333],\n",
       "       [0.81765195],\n",
       "       [0.81931723],\n",
       "       [0.8028726 ],\n",
       "       [0.81994171],\n",
       "       [0.81099084],\n",
       "       [0.81910907],\n",
       "       [0.82348043],\n",
       "       [0.84159034],\n",
       "       [0.85137385],\n",
       "       [0.86157369],\n",
       "       [0.84096586],\n",
       "       [0.84263114],\n",
       "       [0.85116569],\n",
       "       [0.85241465],\n",
       "       [0.8682348 ],\n",
       "       [0.84034138],\n",
       "       [0.83888426],\n",
       "       [0.8407577 ],\n",
       "       [0.84512906],\n",
       "       [0.87198168],\n",
       "       [0.88384679],\n",
       "       [0.87739384],\n",
       "       [0.88093255],\n",
       "       [0.87364696],\n",
       "       [0.87801832],\n",
       "       [0.8713572 ],\n",
       "       [0.86303081],\n",
       "       [0.86969192],\n",
       "       [0.8796836 ],\n",
       "       [0.90632806],\n",
       "       [0.93297252]])"
      ]
     },
     "execution_count": 24,
     "metadata": {},
     "output_type": "execute_result"
    }
   ],
   "source": [
    "# Create test arrays\n",
    "x_test_lr"
   ]
  },
  {
   "cell_type": "code",
   "execution_count": 25,
   "metadata": {},
   "outputs": [],
   "source": [
    "# Generate array with predicted values\n",
    "train_pred_lr = modellr.predict(x_train_lr)\n",
    "test_pred_lr = modellr.predict(x_test_lr)"
   ]
  },
  {
   "cell_type": "code",
   "execution_count": 26,
   "metadata": {},
   "outputs": [],
   "source": [
    "#model accurcy\n",
    "#results_lr = model.evaluate(x_test_lr, y_test_lr, batch_size=128)\n",
    "#print(\"test loss, test acc:\", results_lr)"
   ]
  },
  {
   "cell_type": "code",
   "execution_count": 27,
   "metadata": {},
   "outputs": [],
   "source": [
    "# reshape input to be [samples, time steps, features] which is required for LSTM\n",
    "train_pred_lr =train_pred_lr.reshape(train_pred_lr.shape[0], 1)\n",
    "test_pred_lr = test_pred_lr.reshape(test_pred_lr.shape[0], 1)"
   ]
  },
  {
   "cell_type": "code",
   "execution_count": 28,
   "metadata": {},
   "outputs": [],
   "source": [
    "train_pred_lr=scaler.inverse_transform(train_pred_lr)\n",
    "test_pred_lr=scaler.inverse_transform(test_pred_lr)"
   ]
  },
  {
   "cell_type": "code",
   "execution_count": 29,
   "metadata": {},
   "outputs": [],
   "source": [
    "y_train_lr =y_train_lr.reshape(y_train_lr.shape[0], 1)\n",
    "y_test_lr = y_test_lr.reshape(y_test_lr.shape[0], 1)"
   ]
  },
  {
   "cell_type": "code",
   "execution_count": 30,
   "metadata": {},
   "outputs": [],
   "source": [
    "y_train_lr=scaler.inverse_transform(y_train_lr)\n",
    "y_test_lr=scaler.inverse_transform(y_test_lr)"
   ]
  },
  {
   "cell_type": "code",
   "execution_count": 31,
   "metadata": {},
   "outputs": [
    {
     "name": "stdout",
     "output_type": "stream",
     "text": [
      "[[0.20843042]\n",
      " [0.21182344]\n",
      " [0.22668608]\n",
      " ...\n",
      " [0.24666938]\n",
      " [0.24625316]\n",
      " [0.24417156]]\n",
      "[[272.27176503]\n",
      " [273.08044961]\n",
      " [276.62278216]\n",
      " ...\n",
      " [281.38556037]\n",
      " [281.28635978]\n",
      " [280.79023579]]\n"
     ]
    }
   ],
   "source": [
    "print(x_train_lr)\n",
    "print(train_pred_lr)"
   ]
  },
  {
   "cell_type": "code",
   "execution_count": 32,
   "metadata": {},
   "outputs": [],
   "source": [
    "#plt.plot(x_test_lr)\n",
    "#plt.plot(test_pred_lr)\n",
    "#plt.plot(x_train_lr)\n",
    "#plt.plot(train_pred_lr)"
   ]
  },
  {
   "cell_type": "code",
   "execution_count": 33,
   "metadata": {},
   "outputs": [
    {
     "name": "stdout",
     "output_type": "stream",
     "text": [
      "(321, 1)\n",
      "(1286, 1)\n",
      "(1286, 1)\n",
      "(321, 1)\n"
     ]
    }
   ],
   "source": [
    "print(y_test_lr.shape) \n",
    "print(train_pred_lr.shape)\n",
    "print(y_train_lr.shape)\n",
    "print(test_pred_lr.shape)"
   ]
  },
  {
   "cell_type": "code",
   "execution_count": 34,
   "metadata": {},
   "outputs": [
    {
     "name": "stdout",
     "output_type": "stream",
     "text": [
      "Training Linear Regression Root Mean Squared error is:1.942798495436863\n",
      "Training Linear Regression Mean Squared error is 3.774465993871738\n",
      "Test Linear Regression Root Mean Squared error is:4.546994743199361\n",
      "Test Linear Regression Mean Squared error is 20.675161194682623\n"
     ]
    }
   ],
   "source": [
    "### Calculate RMSE performance metrics\n",
    "import math\n",
    "from sklearn.metrics import mean_squared_error\n",
    "print(\"Training Linear Regression Root Mean Squared error is:{}\". format(math.sqrt(mean_squared_error(y_train_lr,train_pred_lr))))\n",
    "print(\"Training Linear Regression Mean Squared error is {}\".format(mean_squared_error(y_train_lr,train_pred_lr)))\n",
    "\n",
    "print(\"Test Linear Regression Root Mean Squared error is:{}\". format(math.sqrt(mean_squared_error(y_test_lr,test_pred_lr))))\n",
    "print(\"Test Linear Regression Mean Squared error is {}\".format(mean_squared_error(y_test_lr,test_pred_lr)))\n"
   ]
  },
  {
   "cell_type": "code",
   "execution_count": 35,
   "metadata": {},
   "outputs": [
    {
     "data": {
      "image/png": "[encoded data removed]",
      "text/plain": [
       "<Figure size 1152x576 with 1 Axes>"
      ]
     },
     "metadata": {
      "needs_background": "light"
     },
     "output_type": "display_data"
    }
   ],
   "source": [
    "# shift train predictions for plotting\n",
    "look_back=100\n",
    "trainPredictPlot = numpy.empty_like(data_scaled)\n",
    "trainPredictPlot[:, :] = np.nan\n",
    "trainPredictPlot[look_back:len(train_pred_lr)+look_back, :] = train_pred_lr\n",
    "# shift test predictions for plotting\n",
    "testPredictPlot = numpy.empty_like(data_scaled)\n",
    "testPredictPlot[:, :] = numpy.nan\n",
    "testPredictPlot[len(train_pred_lr)+(look_back*2)-196:len(data)+100, :] = test_pred_lr\n",
    "# plot baseline and predictions\n",
    "plt.figure(figsize = (16,8))\n",
    "plt.plot(scaler.inverse_transform(data_scaled))\n",
    "plt.plot(trainPredictPlot)\n",
    "plt.plot(testPredictPlot)\n",
    "plt.legend(['Original','Training', 'Test'])\n",
    "plt.show()"
   ]
  },
  {
   "cell_type": "code",
   "execution_count": null,
   "metadata": {},
   "outputs": [],
   "source": []
  },
  {
   "cell_type": "code",
   "execution_count": null,
   "metadata": {},
   "outputs": [],
   "source": []
  },
  {
   "cell_type": "code",
   "execution_count": 36,
   "metadata": {},
   "outputs": [],
   "source": [
    "#data_1 = pd.read_csv('KOTAKGOLD.csv')"
   ]
  },
  {
   "cell_type": "code",
   "execution_count": 37,
   "metadata": {},
   "outputs": [],
   "source": [
    "#data = data_1[['Adj Close']]"
   ]
  },
  {
   "cell_type": "code",
   "execution_count": 38,
   "metadata": {},
   "outputs": [],
   "source": [
    "#from sklearn.preprocessing import MinMaxScaler\n",
    "#scaler=MinMaxScaler(feature_range=(0,1))\n",
    "#data=scaler.fit_transform(np.array(data).reshape(-1,1))"
   ]
  },
  {
   "cell_type": "code",
   "execution_count": 39,
   "metadata": {},
   "outputs": [],
   "source": [
    "#Split data 80% training 20% testing\n",
    "\n",
    "#training_size=int(len(data)*0.8)\n",
    "#test_size=len(data)-training_size\n",
    "#train_data,test_data=data[0:training_size],data[training_size:len(data)]"
   ]
  },
  {
   "cell_type": "code",
   "execution_count": 40,
   "metadata": {},
   "outputs": [],
   "source": [
    "#def create_dataset(dataset, time_step=1):\n",
    "#    dataX, dataY = [], []\n",
    "#   for i in range(len(dataset)-time_step-1):\n",
    "#        a = dataset[i:(i+time_step), 0]   ###i=0, 0,1,2,3-----99   100 \n",
    "#        dataX.append(a)\n",
    "#        dataY.append(dataset[i + time_step, 0])\n",
    "#    return numpy.array(dataX), numpy.array(dataY)"
   ]
  },
  {
   "cell_type": "code",
   "execution_count": 41,
   "metadata": {},
   "outputs": [],
   "source": [
    "#reshape into X=t,t+1,t+2,t+3 and Y=t+4\n",
    "#time_step = 1\n",
    "#x_train, y_train = create_dataset(train_data, time_step)\n",
    "#x_test, y_test = create_dataset(test_data, time_step)\n",
    "#x_train, x_test, y_train, y_test = train_test_split(X, y, test_size = 0.2)"
   ]
  },
  {
   "cell_type": "code",
   "execution_count": 42,
   "metadata": {},
   "outputs": [],
   "source": [
    "#LSTM coefficients\n",
    "x_train_lstm = x_train\n",
    "y_train_lstm = y_train\n",
    "x_test_lstm = x_test\n",
    "y_test_lstm = y_test"
   ]
  },
  {
   "cell_type": "code",
   "execution_count": 43,
   "metadata": {},
   "outputs": [],
   "source": [
    "# reshape input to be [samples, time steps, features] which is required for LSTM\n",
    "x_train_lstm =x_train_lstm.reshape(x_train_lstm.shape[0],x_train_lstm.shape[1] , 1)\n",
    "x_test_lstm = x_test_lstm.reshape(x_test_lstm.shape[0],x_test_lstm.shape[1] , 1)"
   ]
  },
  {
   "cell_type": "code",
   "execution_count": 44,
   "metadata": {},
   "outputs": [],
   "source": [
    "### Create the Stacked LSTM model\n",
    "from tensorflow.keras.models import Sequential\n",
    "from tensorflow.keras.layers import Dense\n",
    "from tensorflow.keras.layers import LSTM\n",
    "from tensorflow.keras.layers import Dropout, Activation"
   ]
  },
  {
   "cell_type": "code",
   "execution_count": 45,
   "metadata": {},
   "outputs": [],
   "source": [
    "#from keras import backend as K\n",
    "#K.set_image_data_format('channels_last')  \n",
    "#keras.backend.image_data_format()  "
   ]
  },
  {
   "cell_type": "code",
   "execution_count": 46,
   "metadata": {},
   "outputs": [],
   "source": [
    "model=Sequential()\n",
    "model.add(LSTM(5,return_sequences=True,input_shape=(5,1)))\n",
    "model.add(Dropout(0.5))\n",
    "#model.add(LSTM(100,return_sequences=True))\n",
    "#model.add(Dropout(0.5))\n",
    "#model.add(LSTM(100,return_sequences=True))\n",
    "#model.add(Dropout(0.5))\n",
    "model.add(LSTM(5))\n",
    "#model.add(Dropout(0.5))\n",
    "model.add(Dense(1))\n",
    "model.add(Activation(\"linear\"))\n",
    "model.compile(loss='mse',optimizer='adam')"
   ]
  },
  {
   "cell_type": "code",
   "execution_count": 47,
   "metadata": {
    "scrolled": false
   },
   "outputs": [
    {
     "name": "stdout",
     "output_type": "stream",
     "text": [
      "Model: \"sequential\"\n",
      "_________________________________________________________________\n",
      "Layer (type)                 Output Shape              Param #   \n",
      "=================================================================\n",
      "lstm (LSTM)                  (None, 5, 5)              140       \n",
      "_________________________________________________________________\n",
      "dropout (Dropout)            (None, 5, 5)              0         \n",
      "_________________________________________________________________\n",
      "lstm_1 (LSTM)                (None, 5)                 220       \n",
      "_________________________________________________________________\n",
      "dense (Dense)                (None, 1)                 6         \n",
      "_________________________________________________________________\n",
      "activation (Activation)      (None, 1)                 0         \n",
      "=================================================================\n",
      "Total params: 366\n",
      "Trainable params: 366\n",
      "Non-trainable params: 0\n",
      "_________________________________________________________________\n"
     ]
    }
   ],
   "source": [
    "model.summary()"
   ]
  },
  {
   "cell_type": "code",
   "execution_count": 48,
   "metadata": {},
   "outputs": [
    {
     "name": "stdout",
     "output_type": "stream",
     "text": [
      "Epoch 1/50\n",
      "WARNING:tensorflow:Model was constructed with shape (None, 5, 1) for input Tensor(\"lstm_input:0\", shape=(None, 5, 1), dtype=float32), but it was called on an input with incompatible shape (None, 1, 1).\n",
      "WARNING:tensorflow:Model was constructed with shape (None, 5, 1) for input Tensor(\"lstm_input:0\", shape=(None, 5, 1), dtype=float32), but it was called on an input with incompatible shape (None, 1, 1).\n",
      " 1/21 [>.............................] - ETA: 0s - loss: 0.0290WARNING:tensorflow:Model was constructed with shape (None, 5, 1) for input Tensor(\"lstm_input:0\", shape=(None, 5, 1), dtype=float32), but it was called on an input with incompatible shape (None, 1, 1).\n",
      "21/21 [==============================] - 1s 38ms/step - loss: 0.0232 - val_loss: 0.2827\n",
      "Epoch 2/50\n",
      "21/21 [==============================] - 0s 3ms/step - loss: 0.0148 - val_loss: 0.2467\n",
      "Epoch 3/50\n",
      "21/21 [==============================] - 0s 3ms/step - loss: 0.0088 - val_loss: 0.2144\n",
      "Epoch 4/50\n",
      "21/21 [==============================] - 0s 3ms/step - loss: 0.0054 - val_loss: 0.1883\n",
      "Epoch 5/50\n",
      "21/21 [==============================] - 0s 3ms/step - loss: 0.0040 - val_loss: 0.1713\n",
      "Epoch 6/50\n",
      "21/21 [==============================] - 0s 3ms/step - loss: 0.0038 - val_loss: 0.1635\n",
      "Epoch 7/50\n",
      "21/21 [==============================] - 0s 3ms/step - loss: 0.0037 - val_loss: 0.1601\n",
      "Epoch 8/50\n",
      "21/21 [==============================] - 0s 3ms/step - loss: 0.0037 - val_loss: 0.1591\n",
      "Epoch 9/50\n",
      "21/21 [==============================] - 0s 3ms/step - loss: 0.0037 - val_loss: 0.1578\n",
      "Epoch 10/50\n",
      "21/21 [==============================] - 0s 3ms/step - loss: 0.0036 - val_loss: 0.1565\n",
      "Epoch 11/50\n",
      "21/21 [==============================] - 0s 3ms/step - loss: 0.0036 - val_loss: 0.1536\n",
      "Epoch 12/50\n",
      "21/21 [==============================] - 0s 3ms/step - loss: 0.0035 - val_loss: 0.1505\n",
      "Epoch 13/50\n",
      "21/21 [==============================] - 0s 3ms/step - loss: 0.0034 - val_loss: 0.1462\n",
      "Epoch 14/50\n",
      "21/21 [==============================] - 0s 3ms/step - loss: 0.0034 - val_loss: 0.1410\n",
      "Epoch 15/50\n",
      "21/21 [==============================] - 0s 3ms/step - loss: 0.0033 - val_loss: 0.1370\n",
      "Epoch 16/50\n",
      "21/21 [==============================] - 0s 3ms/step - loss: 0.0033 - val_loss: 0.1322\n",
      "Epoch 17/50\n",
      "21/21 [==============================] - 0s 3ms/step - loss: 0.0031 - val_loss: 0.1271\n",
      "Epoch 18/50\n",
      "21/21 [==============================] - 0s 3ms/step - loss: 0.0030 - val_loss: 0.1191\n",
      "Epoch 19/50\n",
      "21/21 [==============================] - 0s 3ms/step - loss: 0.0029 - val_loss: 0.1128\n",
      "Epoch 20/50\n",
      "21/21 [==============================] - 0s 3ms/step - loss: 0.0028 - val_loss: 0.1043\n",
      "Epoch 21/50\n",
      "21/21 [==============================] - 0s 3ms/step - loss: 0.0027 - val_loss: 0.0949\n",
      "Epoch 22/50\n",
      "21/21 [==============================] - 0s 3ms/step - loss: 0.0024 - val_loss: 0.0844\n",
      "Epoch 23/50\n",
      "21/21 [==============================] - 0s 3ms/step - loss: 0.0023 - val_loss: 0.0732\n",
      "Epoch 24/50\n",
      "21/21 [==============================] - 0s 3ms/step - loss: 0.0020 - val_loss: 0.0615\n",
      "Epoch 25/50\n",
      "21/21 [==============================] - 0s 3ms/step - loss: 0.0019 - val_loss: 0.0496\n",
      "Epoch 26/50\n",
      "21/21 [==============================] - 0s 4ms/step - loss: 0.0018 - val_loss: 0.0392\n",
      "Epoch 27/50\n",
      "21/21 [==============================] - 0s 3ms/step - loss: 0.0016 - val_loss: 0.0294\n",
      "Epoch 28/50\n",
      "21/21 [==============================] - 0s 3ms/step - loss: 0.0014 - val_loss: 0.0205\n",
      "Epoch 29/50\n",
      "21/21 [==============================] - 0s 3ms/step - loss: 0.0013 - val_loss: 0.0147\n",
      "Epoch 30/50\n",
      "21/21 [==============================] - 0s 3ms/step - loss: 0.0013 - val_loss: 0.0087\n",
      "Epoch 31/50\n",
      "21/21 [==============================] - 0s 3ms/step - loss: 0.0010 - val_loss: 0.0068\n",
      "Epoch 32/50\n",
      "21/21 [==============================] - 0s 3ms/step - loss: 0.0010 - val_loss: 0.0040\n",
      "Epoch 33/50\n",
      "21/21 [==============================] - 0s 3ms/step - loss: 0.0010 - val_loss: 0.0023\n",
      "Epoch 34/50\n",
      "21/21 [==============================] - 0s 3ms/step - loss: 9.1098e-04 - val_loss: 0.0014\n",
      "Epoch 35/50\n",
      "21/21 [==============================] - 0s 3ms/step - loss: 8.9330e-04 - val_loss: 8.0957e-04\n",
      "Epoch 36/50\n",
      "21/21 [==============================] - 0s 3ms/step - loss: 7.9245e-04 - val_loss: 5.4571e-04\n",
      "Epoch 37/50\n",
      "21/21 [==============================] - 0s 3ms/step - loss: 9.6483e-04 - val_loss: 7.1910e-04\n",
      "Epoch 38/50\n",
      "21/21 [==============================] - 0s 3ms/step - loss: 8.3256e-04 - val_loss: 5.6481e-04\n",
      "Epoch 39/50\n",
      "21/21 [==============================] - 0s 3ms/step - loss: 8.6428e-04 - val_loss: 6.8125e-04\n",
      "Epoch 40/50\n",
      "21/21 [==============================] - 0s 3ms/step - loss: 7.1831e-04 - val_loss: 7.1157e-04\n",
      "Epoch 41/50\n",
      "21/21 [==============================] - 0s 3ms/step - loss: 8.3764e-04 - val_loss: 7.5174e-04\n",
      "Epoch 42/50\n",
      "21/21 [==============================] - 0s 3ms/step - loss: 7.7823e-04 - val_loss: 7.0712e-04\n",
      "Epoch 43/50\n",
      "21/21 [==============================] - 0s 3ms/step - loss: 8.3739e-04 - val_loss: 9.0383e-04\n",
      "Epoch 44/50\n",
      "21/21 [==============================] - 0s 3ms/step - loss: 7.5134e-04 - val_loss: 7.4268e-04\n",
      "Epoch 45/50\n",
      "21/21 [==============================] - 0s 3ms/step - loss: 7.7219e-04 - val_loss: 6.8706e-04\n",
      "Epoch 46/50\n",
      "21/21 [==============================] - 0s 3ms/step - loss: 7.9552e-04 - val_loss: 7.0798e-04\n",
      "Epoch 47/50\n",
      "21/21 [==============================] - 0s 3ms/step - loss: 7.3984e-04 - val_loss: 7.0017e-04\n",
      "Epoch 48/50\n",
      "21/21 [==============================] - 0s 3ms/step - loss: 7.1872e-04 - val_loss: 7.6489e-04\n",
      "Epoch 49/50\n",
      "21/21 [==============================] - 0s 3ms/step - loss: 7.5024e-04 - val_loss: 9.9458e-04\n",
      "Epoch 50/50\n",
      "21/21 [==============================] - 0s 3ms/step - loss: 7.2265e-04 - val_loss: 0.0011\n"
     ]
    }
   ],
   "source": [
    "history = model.fit(x_train_lstm,y_train_lstm,validation_data=(x_test_lstm,y_test_lstm),epochs=50,batch_size=64,verbose=1)"
   ]
  },
  {
   "cell_type": "code",
   "execution_count": 49,
   "metadata": {
    "scrolled": true
   },
   "outputs": [
    {
     "data": {
      "text/plain": [
       "[<matplotlib.lines.Line2D at 0x7f906765e550>]"
      ]
     },
     "execution_count": 49,
     "metadata": {},
     "output_type": "execute_result"
    },
    {
     "data": {
      "image/png": "[encoded data removed]",
      "text/plain": [
       "<Figure size 432x288 with 1 Axes>"
      ]
     },
     "metadata": {
      "needs_background": "light"
     },
     "output_type": "display_data"
    }
   ],
   "source": [
    "plt.plot(history.history['loss'])\n",
    "plt.plot(history.history['val_loss'])"
   ]
  },
  {
   "cell_type": "code",
   "execution_count": 50,
   "metadata": {},
   "outputs": [
    {
     "name": "stdout",
     "output_type": "stream",
     "text": [
      "WARNING:tensorflow:Model was constructed with shape (None, 5, 1) for input Tensor(\"lstm_input:0\", shape=(None, 5, 1), dtype=float32), but it was called on an input with incompatible shape (None, 1, 1).\n"
     ]
    }
   ],
   "source": [
    "### Lets Do the prediction and check performance metrics\n",
    "train_pred_lstm=model.predict(x_train_lstm)\n",
    "test_pred_lstm=model.predict(x_test_lstm)"
   ]
  },
  {
   "cell_type": "code",
   "execution_count": 51,
   "metadata": {},
   "outputs": [],
   "source": [
    "##Transformback to original form\n",
    "train_pred_lstm=scaler.inverse_transform(train_pred_lstm)\n",
    "test_pred_lstm=scaler.inverse_transform(test_pred_lstm)\n"
   ]
  },
  {
   "cell_type": "code",
   "execution_count": 52,
   "metadata": {},
   "outputs": [],
   "source": [
    "# reshape input to be [samples, time steps, features] which is required for LSTM\n",
    "y_train_lstm =y_train_lstm.reshape(y_train_lstm.shape[0], 1)\n",
    "y_test_lstm = y_test_lstm.reshape(y_test_lstm.shape[0], 1)\n",
    "y_train_lstm=scaler.inverse_transform(y_train_lstm)\n",
    "y_test_lstm=scaler.inverse_transform(y_test_lstm)"
   ]
  },
  {
   "cell_type": "code",
   "execution_count": 53,
   "metadata": {},
   "outputs": [
    {
     "name": "stdout",
     "output_type": "stream",
     "text": [
      "[[277.6000061]\n",
      " [277.9500122]\n",
      " [280.8999939]\n",
      " [280.6499939]\n",
      " [281.2999878]\n",
      " [281.9500122]\n",
      " [282.1000061]\n",
      " [281.6499939]\n",
      " [280.6000061]\n",
      " [278.9500122]\n",
      " [279.2999878]\n",
      " [277.2000122]\n",
      " [279.6499939]\n",
      " [278.7000122]\n",
      " [279.4500122]\n",
      " [281.6499939]\n",
      " [280.7999878]\n",
      " [282.1000061]\n",
      " [279.25     ]\n",
      " [279.7999878]\n",
      " [281.3500061]\n",
      " [282.5499878]\n",
      " [279.5499878]\n",
      " [280.9500122]\n",
      " [280.25     ]\n",
      " [280.4500122]\n",
      " [283.7000122]\n",
      " [282.9500122]\n",
      " [282.0499878]\n",
      " [279.5      ]\n",
      " [276.8999939]\n",
      " [276.2000122]\n",
      " [276.0499878]\n",
      " [276.6000061]\n",
      " [277.75     ]\n",
      " [277.75     ]\n",
      " [278.75     ]\n",
      " [278.7000122]\n",
      " [277.6499939]\n",
      " [280.6000061]\n",
      " [282.8500061]\n",
      " [283.9500122]\n",
      " [285.5      ]\n",
      " [285.8500061]\n",
      " [284.4500122]\n",
      " [282.1499939]\n",
      " [284.5499878]\n",
      " [285.1000061]\n",
      " [288.8999939]\n",
      " [291.       ]\n",
      " [288.7000122]\n",
      " [287.7999878]\n",
      " [294.25     ]\n",
      " [294.8500061]\n",
      " [296.7999878]\n",
      " [300.9500122]\n",
      " [295.5499878]\n",
      " [294.1000061]\n",
      " [296.9500122]\n",
      " [291.2000122]\n",
      " [291.8999939]\n",
      " [296.7999878]\n",
      " [294.5      ]\n",
      " [297.6000061]\n",
      " [300.1000061]\n",
      " [297.4500122]\n",
      " [297.9500122]\n",
      " [301.8500061]\n",
      " [301.75     ]\n",
      " [302.8500061]\n",
      " [302.8500061]\n",
      " [301.3999939]\n",
      " [305.0499878]\n",
      " [310.6499939]\n",
      " [308.7999878]\n",
      " [305.7999878]\n",
      " [304.75     ]\n",
      " [304.8999939]\n",
      " [303.5      ]\n",
      " [303.7000122]\n",
      " [305.5      ]\n",
      " [305.5499878]\n",
      " [303.2999878]\n",
      " [309.3999939]\n",
      " [326.6499939]\n",
      " [322.9500122]\n",
      " [330.8500061]\n",
      " [327.75     ]\n",
      " [329.6000061]\n",
      " [340.4500122]\n",
      " [334.       ]\n",
      " [333.5499878]\n",
      " [333.8999939]\n",
      " [334.3500061]\n",
      " [335.7999878]\n",
      " [336.75     ]\n",
      " [333.3500061]\n",
      " [343.6499939]\n",
      " [343.       ]\n",
      " [344.1000061]\n",
      " [347.2000122]\n",
      " [341.3999939]\n",
      " [345.75     ]\n",
      " [350.5      ]\n",
      " [353.0499878]\n",
      " [342.3999939]\n",
      " [340.6000061]\n",
      " [336.7000122]\n",
      " [333.5499878]\n",
      " [332.9500122]\n",
      " [334.       ]\n",
      " [336.0499878]\n",
      " [333.75     ]\n",
      " [330.6499939]\n",
      " [329.75     ]\n",
      " [333.3999939]\n",
      " [333.6499939]\n",
      " [336.6499939]\n",
      " [331.25     ]\n",
      " [333.4500122]\n",
      " [334.7000122]\n",
      " [330.0499878]\n",
      " [336.5      ]\n",
      " [338.6499939]\n",
      " [339.2999878]\n",
      " [338.2999878]\n",
      " [340.75     ]\n",
      " [341.5499878]\n",
      " [341.6499939]\n",
      " [342.7999878]\n",
      " [340.3500061]\n",
      " [341.       ]\n",
      " [340.75     ]\n",
      " [340.3500061]\n",
      " [340.6499939]\n",
      " [341.6000061]\n",
      " [344.6000061]\n",
      " [339.5499878]\n",
      " [338.6499939]\n",
      " [341.2000122]\n",
      " [343.2999878]\n",
      " [342.8500061]\n",
      " [342.2999878]\n",
      " [339.3500061]\n",
      " [340.1000061]\n",
      " [335.8999939]\n",
      " [335.3999939]\n",
      " [335.4500122]\n",
      " [337.       ]\n",
      " [335.8500061]\n",
      " [335.4500122]\n",
      " [336.2999878]\n",
      " [337.8999939]\n",
      " [336.25     ]\n",
      " [337.3999939]\n",
      " [333.7999878]\n",
      " [333.1000061]\n",
      " [333.7999878]\n",
      " [333.8999939]\n",
      " [334.4500122]\n",
      " [335.       ]\n",
      " [334.7000122]\n",
      " [336.7999878]\n",
      " [336.9500122]\n",
      " [337.1000061]\n",
      " [334.7999878]\n",
      " [335.3999939]\n",
      " [336.8999939]\n",
      " [335.2999878]\n",
      " [336.5499878]\n",
      " [335.7999878]\n",
      " [336.25     ]\n",
      " [336.3999939]\n",
      " [335.5      ]\n",
      " [336.2000122]\n",
      " [337.6000061]\n",
      " [339.25     ]\n",
      " [343.25     ]\n",
      " [342.6499939]\n",
      " [343.3500061]\n",
      " [346.3999939]\n",
      " [345.7000122]\n",
      " [346.25     ]\n",
      " [353.       ]\n",
      " [361.75     ]\n",
      " [354.75     ]\n",
      " [360.3500061]\n",
      " [352.1499939]\n",
      " [351.7999878]\n",
      " [350.3500061]\n",
      " [350.2000122]\n",
      " [351.8500061]\n",
      " [351.3500061]\n",
      " [351.3500061]\n",
      " [352.4500122]\n",
      " [352.8999939]\n",
      " [351.7000122]\n",
      " [352.6499939]\n",
      " [353.4500122]\n",
      " [358.75     ]\n",
      " [358.9500122]\n",
      " [357.6000061]\n",
      " [361.2999878]\n",
      " [359.0499878]\n",
      " [359.4500122]\n",
      " [357.1499939]\n",
      " [352.9500122]\n",
      " [356.0499878]\n",
      " [356.75     ]\n",
      " [359.       ]\n",
      " [358.3999939]\n",
      " [356.7000122]\n",
      " [358.4500122]\n",
      " [359.       ]\n",
      " [359.75     ]\n",
      " [361.8999939]\n",
      " [366.25     ]\n",
      " [366.3999939]\n",
      " [384.7999878]\n",
      " [376.6000061]\n",
      " [375.3500061]\n",
      " [375.6000061]\n",
      " [377.25     ]\n",
      " [372.3500061]\n",
      " [372.2999878]\n",
      " [381.1499939]\n",
      " [381.       ]\n",
      " [390.9500122]\n",
      " [386.5499878]\n",
      " [384.6000061]\n",
      " [382.0499878]\n",
      " [370.2999878]\n",
      " [363.2999878]\n",
      " [353.7999878]\n",
      " [360.1499939]\n",
      " [351.7999878]\n",
      " [358.       ]\n",
      " [352.3999939]\n",
      " [370.5499878]\n",
      " [376.75     ]\n",
      " [376.1499939]\n",
      " [382.9500122]\n",
      " [394.5499878]\n",
      " [387.       ]\n",
      " [403.9500122]\n",
      " [401.7000122]\n",
      " [405.15     ]\n",
      " [402.75     ]\n",
      " [411.05     ]\n",
      " [439.95     ]\n",
      " [440.45     ]\n",
      " [444.15     ]\n",
      " [430.25     ]\n",
      " [428.7      ]\n",
      " [429.05     ]\n",
      " [420.85     ]\n",
      " [426.3      ]\n",
      " [429.9      ]\n",
      " [425.95     ]\n",
      " [426.25     ]\n",
      " [422.75     ]\n",
      " [422.4      ]\n",
      " [425.9      ]\n",
      " [421.2      ]\n",
      " [416.45     ]\n",
      " [412.3      ]\n",
      " [417.75     ]\n",
      " [417.15     ]\n",
      " [415.95     ]\n",
      " [413.2      ]\n",
      " [416.95     ]\n",
      " [420.15     ]\n",
      " [426.95     ]\n",
      " [414.75     ]\n",
      " [420.5      ]\n",
      " [416.55     ]\n",
      " [417.       ]\n",
      " [413.7      ]\n",
      " [408.1      ]\n",
      " [414.55     ]\n",
      " [413.3      ]\n",
      " [415.1      ]\n",
      " [414.65     ]\n",
      " [410.8      ]\n",
      " [410.1      ]\n",
      " [413.1      ]\n",
      " [409.15     ]\n",
      " [411.1      ]\n",
      " [413.5      ]\n",
      " [418.7      ]\n",
      " [419.1      ]\n",
      " [415.15     ]\n",
      " [419.25     ]\n",
      " [417.1      ]\n",
      " [419.05     ]\n",
      " [420.1      ]\n",
      " [424.45     ]\n",
      " [426.8      ]\n",
      " [429.25     ]\n",
      " [424.3      ]\n",
      " [424.7      ]\n",
      " [426.75     ]\n",
      " [427.05     ]\n",
      " [430.85     ]\n",
      " [424.15     ]\n",
      " [423.8      ]\n",
      " [424.25     ]\n",
      " [425.3      ]\n",
      " [431.75     ]\n",
      " [434.6      ]\n",
      " [433.05     ]\n",
      " [433.9      ]\n",
      " [432.15     ]\n",
      " [433.2      ]\n",
      " [431.6      ]\n",
      " [429.6      ]\n",
      " [431.2      ]\n",
      " [433.6      ]\n",
      " [440.       ]\n",
      " [446.4      ]\n",
      " [449.75     ]]\n",
      "[[275.99695]\n",
      " [275.00232]\n",
      " [275.33322]\n",
      " [278.14816]\n",
      " [277.9078 ]\n",
      " [278.5334 ]\n",
      " [279.16122]\n",
      " [279.30643]\n",
      " [278.8712 ]\n",
      " [277.85977]\n",
      " [276.28223]\n",
      " [276.6156 ]\n",
      " [274.62503]\n",
      " [276.9497 ]\n",
      " [276.04446]\n",
      " [276.75876]\n",
      " [278.8712 ]\n",
      " [278.05197]\n",
      " [279.30643]\n",
      " [276.56796]\n",
      " [277.09308]\n",
      " [278.58163]\n",
      " [279.7427 ]\n",
      " [276.8542 ]\n",
      " [278.19626]\n",
      " [277.52393]\n",
      " [277.7158 ]\n",
      " [280.86246]\n",
      " [280.13144]\n",
      " [279.25803]\n",
      " [276.80646]\n",
      " [274.3426 ]\n",
      " [273.68555]\n",
      " [273.54507]\n",
      " [274.06067]\n",
      " [275.14407]\n",
      " [275.14407]\n",
      " [276.09198]\n",
      " [276.04446]\n",
      " [275.04956]\n",
      " [277.85977]\n",
      " [280.03418]\n",
      " [281.1068 ]\n",
      " [282.62872]\n",
      " [282.97406]\n",
      " [281.5964 ]\n",
      " [279.35486]\n",
      " [281.69446]\n",
      " [282.23477]\n",
      " [286.00928]\n",
      " [288.12543]\n",
      " [285.80887]\n",
      " [284.9093 ]\n",
      " [291.44125]\n",
      " [292.05875]\n",
      " [294.07648]\n",
      " [298.42535]\n",
      " [292.7811 ]\n",
      " [291.28717]\n",
      " [294.23242]\n",
      " [288.32806]\n",
      " [289.03873]\n",
      " [294.07648]\n",
      " [291.69833]\n",
      " [294.90915]\n",
      " [297.52872]\n",
      " [294.75284]\n",
      " [295.2743 ]\n",
      " [299.3779 ]\n",
      " [299.27188]\n",
      " [300.44006]\n",
      " [300.44006]\n",
      " [298.90118]\n",
      " [302.7907 ]\n",
      " [308.85495]\n",
      " [306.83926]\n",
      " [303.59625]\n",
      " [302.46906]\n",
      " [302.62982]\n",
      " [301.13263]\n",
      " [301.34604]\n",
      " [303.2738 ]\n",
      " [303.3275 ]\n",
      " [300.91934]\n",
      " [307.49173]\n",
      " [326.71674]\n",
      " [322.52637]\n",
      " [331.50806]\n",
      " [327.96826]\n",
      " [330.07855]\n",
      " [342.56702]\n",
      " [335.12228]\n",
      " [334.60498]\n",
      " [335.0073 ]\n",
      " [335.52484]\n",
      " [337.1945 ]\n",
      " [338.28992]\n",
      " [334.37518]\n",
      " [346.27722]\n",
      " [345.5229 ]\n",
      " [346.79968]\n",
      " [350.4022 ]\n",
      " [343.66748]\n",
      " [348.71643]\n",
      " [354.2421 ]\n",
      " [357.21112]\n",
      " [344.82687]\n",
      " [342.74072]\n",
      " [338.2323 ]\n",
      " [334.60498]\n",
      " [333.91577]\n",
      " [335.12228]\n",
      " [337.48264]\n",
      " [334.83487]\n",
      " [331.2791 ]\n",
      " [330.2499 ]\n",
      " [334.43262]\n",
      " [334.7199 ]\n",
      " [338.17456]\n",
      " [331.9661 ]\n",
      " [334.4901 ]\n",
      " [335.9276 ]\n",
      " [330.5928 ]\n",
      " [338.00153]\n",
      " [340.4843 ]\n",
      " [341.23596]\n",
      " [340.07977]\n",
      " [342.91446]\n",
      " [343.84137]\n",
      " [343.95728]\n",
      " [345.29083]\n",
      " [342.4512 ]\n",
      " [343.20404]\n",
      " [342.91446]\n",
      " [342.4512 ]\n",
      " [342.7986 ]\n",
      " [343.89932]\n",
      " [347.3803 ]\n",
      " [341.5252 ]\n",
      " [340.4843 ]\n",
      " [343.43576]\n",
      " [345.871  ]\n",
      " [345.34885]\n",
      " [344.71088]\n",
      " [341.29385]\n",
      " [342.16177]\n",
      " [337.30972]\n",
      " [336.73358]\n",
      " [336.7912 ]\n",
      " [338.57843]\n",
      " [337.2521 ]\n",
      " [336.7912 ]\n",
      " [337.77087]\n",
      " [339.6176 ]\n",
      " [337.71323]\n",
      " [339.04013]\n",
      " [334.89233]\n",
      " [334.088  ]\n",
      " [334.89233]\n",
      " [335.0073 ]\n",
      " [335.6399 ]\n",
      " [336.27292]\n",
      " [335.9276 ]\n",
      " [338.34763]\n",
      " [338.52075]\n",
      " [338.69385]\n",
      " [336.04266]\n",
      " [336.73358]\n",
      " [338.46298]\n",
      " [336.61838]\n",
      " [338.0592 ]\n",
      " [337.1945 ]\n",
      " [337.71323]\n",
      " [337.88623]\n",
      " [336.84882]\n",
      " [337.6556 ]\n",
      " [339.27112]\n",
      " [341.17816]\n",
      " [345.81302]\n",
      " [345.11682]\n",
      " [345.92908]\n",
      " [349.47195]\n",
      " [348.65833]\n",
      " [349.29758]\n",
      " [357.15295]\n",
      " [367.33572]\n",
      " [359.19073]\n",
      " [365.70822]\n",
      " [356.16315]\n",
      " [355.7556 ]\n",
      " [354.0675 ]\n",
      " [353.89285]\n",
      " [355.81387]\n",
      " [355.2317 ]\n",
      " [355.2317 ]\n",
      " [356.51248]\n",
      " [357.0365 ]\n",
      " [355.63922]\n",
      " [356.74536]\n",
      " [357.67697]\n",
      " [363.84705]\n",
      " [364.07974]\n",
      " [362.50876]\n",
      " [366.81274]\n",
      " [364.19608]\n",
      " [364.66147]\n",
      " [361.985  ]\n",
      " [357.09473]\n",
      " [360.7044 ]\n",
      " [361.51935]\n",
      " [364.13797]\n",
      " [363.43982]\n",
      " [361.46115]\n",
      " [363.498  ]\n",
      " [364.13797]\n",
      " [365.0104 ]\n",
      " [367.51004]\n",
      " [372.5586 ]\n",
      " [372.7324 ]\n",
      " [393.84323]\n",
      " [384.4955 ]\n",
      " [383.06097]\n",
      " [383.34808]\n",
      " [385.2405 ]\n",
      " [379.60944]\n",
      " [379.5518 ]\n",
      " [389.6966 ]\n",
      " [389.52567]\n",
      " [400.7712 ]\n",
      " [395.82245]\n",
      " [393.6167 ]\n",
      " [390.72128]\n",
      " [377.24432]\n",
      " [369.1363 ]\n",
      " [358.0845 ]\n",
      " [365.47565]\n",
      " [355.7556 ]\n",
      " [362.97433]\n",
      " [356.45425]\n",
      " [377.53302]\n",
      " [384.66748]\n",
      " [383.9793 ]\n",
      " [391.74457]\n",
      " [404.78857]\n",
      " [396.33044]\n",
      " [415.12988]\n",
      " [412.67526]\n",
      " [416.43344]\n",
      " [413.8224 ]\n",
      " [422.78403]\n",
      " [452.33017]\n",
      " [452.81686]\n",
      " [456.3911 ]\n",
      " [442.71884]\n",
      " [441.15356]\n",
      " [441.50772]\n",
      " [433.1048 ]\n",
      " [438.71408]\n",
      " [442.3661 ]\n",
      " [438.35675]\n",
      " [438.66306]\n",
      " [435.0712 ]\n",
      " [434.70984]\n",
      " [438.3057 ]\n",
      " [433.4679 ]\n",
      " [428.50732]\n",
      " [424.11664]\n",
      " [429.87195]\n",
      " [429.24283]\n",
      " [427.98108]\n",
      " [425.07324]\n",
      " [429.03278]\n",
      " [432.37744]\n",
      " [439.37665]\n",
      " [426.715  ]\n",
      " [432.74133]\n",
      " [428.6125 ]\n",
      " [429.08533]\n",
      " [425.6036 ]\n",
      " [419.62112]\n",
      " [426.5036 ]\n",
      " [425.17938]\n",
      " [427.08478]\n",
      " [426.60934]\n",
      " [422.51694]\n",
      " [421.7682 ]\n",
      " [424.96707]\n",
      " [420.7498 ]\n",
      " [422.83743]\n",
      " [425.39157]\n",
      " [430.86588]\n",
      " [431.2835 ]\n",
      " [427.13754]\n",
      " [431.44   ]\n",
      " [429.1903 ]\n",
      " [431.23135]\n",
      " [432.32544]\n",
      " [436.8208 ]\n",
      " [439.22385]\n",
      " [441.7099 ]\n",
      " [436.66678]\n",
      " [437.0773 ]\n",
      " [439.17294]\n",
      " [439.47845]\n",
      " [443.32266]\n",
      " [436.51273]\n",
      " [436.15292]\n",
      " [436.61545]\n",
      " [437.69208]\n",
      " [444.226  ]\n",
      " [447.0688 ]\n",
      " [445.52612]\n",
      " [446.3731 ]\n",
      " [444.62668]\n",
      " [445.67578]\n",
      " [444.07568]\n",
      " [442.06342]\n",
      " [443.67432]\n",
      " [446.07446]\n",
      " [452.37888]\n",
      " [458.54117]]\n"
     ]
    }
   ],
   "source": [
    "print(y_test_lstm)\n",
    "print(test_pred_lstm)"
   ]
  },
  {
   "cell_type": "code",
   "execution_count": 54,
   "metadata": {},
   "outputs": [
    {
     "data": {
      "image/png": "[encoded data removed]",
      "text/plain": [
       "<Figure size 1152x576 with 1 Axes>"
      ]
     },
     "metadata": {
      "needs_background": "light"
     },
     "output_type": "display_data"
    }
   ],
   "source": [
    "# shift train predictions for plotting\n",
    "look_back=100\n",
    "trainPredictPlot = numpy.empty_like(data_scaled)\n",
    "trainPredictPlot[:, :] = np.nan\n",
    "trainPredictPlot[look_back:len(train_pred_lstm)+look_back, :] = train_pred_lstm\n",
    "# shift test predictions for plotting\n",
    "testPredictPlot = numpy.empty_like(data_scaled)\n",
    "testPredictPlot[:, :] = numpy.nan\n",
    "testPredictPlot[len(train_pred_lstm)+(look_back*2)-196:len(data)+100, :] = test_pred_lstm\n",
    "# plot baseline and predictions\n",
    "plt.figure(figsize = (16,8))\n",
    "plt.plot(scaler.inverse_transform(data_scaled))\n",
    "plt.plot(trainPredictPlot)\n",
    "plt.plot(testPredictPlot)\n",
    "plt.legend(['Original','Training', 'Test'])\n",
    "plt.show()"
   ]
  },
  {
   "cell_type": "code",
   "execution_count": 78,
   "metadata": {},
   "outputs": [
    {
     "name": "stdout",
     "output_type": "stream",
     "text": [
      "Training LSTM Root Mean Squared error is:3.2619863586938256\n",
      "Traning LSTM Mean Squared error is 10.640555004304604\n"
     ]
    }
   ],
   "source": [
    "### Calculate RMSE performance metrics\n",
    "import math\n",
    "from sklearn.metrics import mean_squared_error\n",
    "print(\"Training LSTM Root Mean Squared error is:{}\". format(math.sqrt(mean_squared_error(y_train_lstm,train_pred_lstm))))\n",
    "print(\"Traning LSTM Mean Squared error is {}\".format(mean_squared_error(y_train_lstm,train_pred_lstm)))"
   ]
  },
  {
   "cell_type": "code",
   "execution_count": null,
   "metadata": {},
   "outputs": [],
   "source": [
    "### Test Data RMSE\n",
    "print(\"Test LSTM Root Mean Squared error is:{}\". format(math.sqrt(mean_squared_error(y_test_lstm,test_pred_lstm))))\n",
    "print(\"Test LSTM Mean Squared error is {}\".format(mean_squared_error(y_test_lstm,test_pred_lstm)))\n"
   ]
  },
  {
   "cell_type": "code",
   "execution_count": 57,
   "metadata": {},
   "outputs": [
    {
     "name": "stdout",
     "output_type": "stream",
     "text": [
      "WARNING:tensorflow:Model was constructed with shape (None, 5, 1) for input Tensor(\"lstm_input:0\", shape=(None, 5, 1), dtype=float32), but it was called on an input with incompatible shape (None, 1, 1).\n",
      "3/3 [==============================] - 0s 1ms/step - loss: 124658.6797\n",
      "test loss, test acc: 124658.6796875\n"
     ]
    }
   ],
   "source": [
    "results_lstm = model.evaluate(x_test_lstm, y_test_lstm, batch_size=128)\n",
    "print(\"test loss, test acc:\", results_lstm)"
   ]
  },
  {
   "cell_type": "markdown",
   "metadata": {
    "scrolled": true
   },
   "source": [
    "### shift train predictions for plotting\n",
    "look_back=100\n",
    "trainPredictPlot = numpy.empty_like(data)\n",
    "trainPredictPlot[:, :] = np.nan\n",
    "trainPredictPlot[look_back:len(train_predict)+look_back, :] = train_predict\n",
    "# shift test predictions for plotting\n",
    "testPredictPlot = numpy.empty_like(data)\n",
    "testPredictPlot[:, :] = numpy.nan\n",
    "testPredictPlot[len(train_predict)+(look_back*2)-196:len(data)+100, :] = test_predict\n",
    "# plot baseline and predictions\n",
    "plt.plot(scaler.inverse_transform(data))\n",
    "plt.plot(trainPredictPlot)\n",
    "plt.plot(testPredictPlot)\n",
    "plt.legend(['Original','Training', 'Test'])\n",
    "plt.show()\n"
   ]
  },
  {
   "cell_type": "code",
   "execution_count": 58,
   "metadata": {},
   "outputs": [
    {
     "data": {
      "text/plain": [
       "array([[0.20843042],\n",
       "       [0.21182344],\n",
       "       [0.22668608],\n",
       "       ...,\n",
       "       [0.93297252],\n",
       "       [0.94691923],\n",
       "       [1.        ]])"
      ]
     },
     "execution_count": 58,
     "metadata": {},
     "output_type": "execute_result"
    }
   ],
   "source": [
    "len(data_scaled)\n",
    "data_scaled"
   ]
  },
  {
   "cell_type": "code",
   "execution_count": 59,
   "metadata": {},
   "outputs": [
    {
     "data": {
      "text/plain": [
       "(1, 1)"
      ]
     },
     "execution_count": 59,
     "metadata": {},
     "output_type": "execute_result"
    }
   ],
   "source": [
    "#Predicting to next 1 day data using previous 7 days\n",
    "x_input=data_scaled[len(data_scaled)-1:].reshape(1,-1)\n",
    "x_input.shape"
   ]
  },
  {
   "cell_type": "code",
   "execution_count": 60,
   "metadata": {},
   "outputs": [],
   "source": [
    "temp_input=list(x_input)\n",
    "temp_input=temp_input[0].tolist()"
   ]
  },
  {
   "cell_type": "code",
   "execution_count": 61,
   "metadata": {},
   "outputs": [
    {
     "data": {
      "text/plain": [
       "1"
      ]
     },
     "execution_count": 61,
     "metadata": {},
     "output_type": "execute_result"
    }
   ],
   "source": [
    "len(temp_input)"
   ]
  },
  {
   "cell_type": "code",
   "execution_count": 62,
   "metadata": {},
   "outputs": [
    {
     "data": {
      "text/plain": [
       "[1.0]"
      ]
     },
     "execution_count": 62,
     "metadata": {},
     "output_type": "execute_result"
    }
   ],
   "source": [
    "temp_input"
   ]
  },
  {
   "cell_type": "code",
   "execution_count": 63,
   "metadata": {
    "scrolled": true
   },
   "outputs": [
    {
     "data": {
      "text/plain": [
       "array([[1.]])"
      ]
     },
     "execution_count": 63,
     "metadata": {},
     "output_type": "execute_result"
    }
   ],
   "source": [
    "x_input"
   ]
  },
  {
   "cell_type": "code",
   "execution_count": 64,
   "metadata": {},
   "outputs": [
    {
     "name": "stdout",
     "output_type": "stream",
     "text": [
      "[1.0453857]\n",
      "2\n",
      "1 day input [1.04538572]\n",
      "1 day output [[1.0850842]]\n",
      "2 day input [1.0850842]\n",
      "2 day output [[1.1183586]]\n",
      "3 day input [1.11835861]\n",
      "3 day output [[1.1452171]]\n",
      "4 day input [1.14521706]\n",
      "4 day output [[1.1662196]]\n",
      "5 day input [1.16621959]\n",
      "5 day output [[1.1822274]]\n",
      "6 day input [1.18222737]\n",
      "6 day output [[1.1941859]]\n",
      "[[1.045385718345642], [1.0850841999053955], [1.1183586120605469], [1.1452170610427856], [1.1662195920944214], [1.182227373123169], [1.1941858530044556]]\n"
     ]
    }
   ],
   "source": [
    "from numpy import array\n",
    "\n",
    "lst_output=[]\n",
    "n_steps=1\n",
    "i=0\n",
    "while(i<7):\n",
    "    \n",
    "    if(len(temp_input)>1):\n",
    "        #print(temp_input)\n",
    "        x_input=np.array(temp_input[1:])\n",
    "        print(\"{} day input {}\".format(i,x_input))\n",
    "        x_input=x_input.reshape(1,-1)\n",
    "        x_input = x_input.reshape((1, n_steps, 1))\n",
    "        #print(x_input)\n",
    "        yhat = model.predict(x_input, verbose=0)\n",
    "        print(\"{} day output {}\".format(i,yhat))\n",
    "        temp_input.extend(yhat[0].tolist())\n",
    "        temp_input=temp_input[1:]\n",
    "        #print(temp_input)\n",
    "        lst_output.extend(yhat.tolist())\n",
    "        i=i+1\n",
    "    else:\n",
    "        x_input = x_input.reshape((1, n_steps,1))\n",
    "        yhat = model.predict(x_input, verbose=0)\n",
    "        print(yhat[0])\n",
    "        temp_input.extend(yhat[0].tolist())\n",
    "        print(len(temp_input))\n",
    "        lst_output.extend(yhat.tolist())\n",
    "        i=i+1\n",
    "    \n",
    "\n",
    "print(lst_output)"
   ]
  },
  {
   "cell_type": "code",
   "execution_count": 65,
   "metadata": {},
   "outputs": [],
   "source": [
    "day_new=np.arange(1,len(lst_output)+1)\n",
    "day_pred=np.arange(len(lst_output)+1,len(lst_output)+8)"
   ]
  },
  {
   "cell_type": "code",
   "execution_count": 66,
   "metadata": {},
   "outputs": [
    {
     "data": {
      "text/plain": [
       "7"
      ]
     },
     "execution_count": 66,
     "metadata": {},
     "output_type": "execute_result"
    }
   ],
   "source": [
    "len(day_new)"
   ]
  },
  {
   "cell_type": "code",
   "execution_count": 67,
   "metadata": {},
   "outputs": [
    {
     "data": {
      "text/plain": [
       "[[1.045385718345642],\n",
       " [1.0850841999053955],\n",
       " [1.1183586120605469],\n",
       " [1.1452170610427856],\n",
       " [1.1662195920944214],\n",
       " [1.182227373123169],\n",
       " [1.1941858530044556]]"
      ]
     },
     "execution_count": 67,
     "metadata": {},
     "output_type": "execute_result"
    }
   ],
   "source": [
    "lst_output"
   ]
  },
  {
   "cell_type": "code",
   "execution_count": 68,
   "metadata": {},
   "outputs": [
    {
     "data": {
      "text/plain": [
       "(7,)"
      ]
     },
     "execution_count": 68,
     "metadata": {},
     "output_type": "execute_result"
    }
   ],
   "source": [
    "day_pred.shape"
   ]
  },
  {
   "cell_type": "code",
   "execution_count": 69,
   "metadata": {},
   "outputs": [
    {
     "data": {
      "text/plain": [
       "array([[473.40164941],\n",
       "       [482.93722455],\n",
       "       [490.92973825],\n",
       "       [497.38113761],\n",
       "       [502.42594551],\n",
       "       [506.27101446],\n",
       "       [509.14344129]])"
      ]
     },
     "execution_count": 69,
     "metadata": {},
     "output_type": "execute_result"
    }
   ],
   "source": [
    "tx = scaler.inverse_transform(lst_output)\n",
    "tx"
   ]
  },
  {
   "cell_type": "code",
   "execution_count": 70,
   "metadata": {},
   "outputs": [
    {
     "data": {
      "text/plain": [
       "[<matplotlib.lines.Line2D at 0x7f903770c630>]"
      ]
     },
     "execution_count": 70,
     "metadata": {},
     "output_type": "execute_result"
    },
    {
     "data": {
      "image/png": "[encoded data removed]",
      "text/plain": [
       "<Figure size 432x288 with 1 Axes>"
      ]
     },
     "metadata": {
      "needs_background": "light"
     },
     "output_type": "display_data"
    }
   ],
   "source": [
    "plt.plot(day_new,scaler.inverse_transform(data_scaled[len(data_scaled)-7:]))\n",
    "plt.plot(day_pred,tx)"
   ]
  },
  {
   "cell_type": "code",
   "execution_count": 71,
   "metadata": {},
   "outputs": [
    {
     "data": {
      "text/plain": [
       "[<matplotlib.lines.Line2D at 0x7f9036e93c50>]"
      ]
     },
     "execution_count": 71,
     "metadata": {},
     "output_type": "execute_result"
    },
    {
     "data": {
      "image/png": "[encoded data removed]",
      "text/plain": [
       "<Figure size 432x288 with 1 Axes>"
      ]
     },
     "metadata": {
      "needs_background": "light"
     },
     "output_type": "display_data"
    }
   ],
   "source": [
    "df3=data_scaled.tolist()\n",
    "df3.extend(lst_output)\n",
    "plt.plot(df3[1500:])"
   ]
  },
  {
   "cell_type": "code",
   "execution_count": 72,
   "metadata": {},
   "outputs": [],
   "source": [
    "df3=scaler.inverse_transform(df3).tolist()"
   ]
  },
  {
   "cell_type": "code",
   "execution_count": 73,
   "metadata": {
    "scrolled": false
   },
   "outputs": [
    {
     "data": {
      "text/plain": [
       "[<matplotlib.lines.Line2D at 0x7f9036dda240>]"
      ]
     },
     "execution_count": 73,
     "metadata": {},
     "output_type": "execute_result"
    },
    {
     "data": {
      "image/png": "[encoded data removed]",
      "text/plain": [
       "<Figure size 432x288 with 1 Axes>"
      ]
     },
     "metadata": {
      "needs_background": "light"
     },
     "output_type": "display_data"
    }
   ],
   "source": [
    "plt.plot(df3)"
   ]
  },
  {
   "cell_type": "code",
   "execution_count": 74,
   "metadata": {},
   "outputs": [
    {
     "data": {
      "text/plain": [
       "[[418.7],\n",
       " [419.1],\n",
       " [415.15],\n",
       " [419.25],\n",
       " [417.1],\n",
       " [419.05],\n",
       " [420.1],\n",
       " [424.45],\n",
       " [426.8],\n",
       " [429.25],\n",
       " [424.3],\n",
       " [424.7],\n",
       " [426.75],\n",
       " [427.05],\n",
       " [430.85],\n",
       " [424.15],\n",
       " [423.8],\n",
       " [424.25],\n",
       " [425.3],\n",
       " [431.75],\n",
       " [434.6],\n",
       " [433.05],\n",
       " [433.9],\n",
       " [432.15],\n",
       " [433.2],\n",
       " [431.6],\n",
       " [429.6],\n",
       " [431.2],\n",
       " [433.6],\n",
       " [440.0],\n",
       " [446.4],\n",
       " [449.75],\n",
       " [462.5],\n",
       " [473.4016494059275],\n",
       " [482.93722455351497],\n",
       " [490.9297382500317],\n",
       " [497.38113761230426],\n",
       " [502.4259455057993],\n",
       " [506.2710144592803],\n",
       " [509.14344128969407]]"
      ]
     },
     "execution_count": 74,
     "metadata": {},
     "output_type": "execute_result"
    }
   ],
   "source": [
    "df3[-40:]"
   ]
  },
  {
   "cell_type": "code",
   "execution_count": 75,
   "metadata": {},
   "outputs": [],
   "source": [
    "#train_pred_lr = modellr.predict(x_train_lr)\n",
    "#test_pred_lr = modellr.predict(x_test_lr)\n",
    "#train_pred_lstm=model.predict(x_train_lstm)\n",
    "#test_pred_lstm=model.predict(x_test_lstm)"
   ]
  },
  {
   "cell_type": "code",
   "execution_count": 76,
   "metadata": {},
   "outputs": [
    {
     "name": "stdout",
     "output_type": "stream",
     "text": [
      "[[-0.90822767]\n",
      " [-3.66955039]\n",
      " [ 0.27277606]\n",
      " ...\n",
      " [-0.06445183]\n",
      " [ 0.33634758]\n",
      " [ 0.59022359]]\n"
     ]
    }
   ],
   "source": [
    "print(train_pred_lr-y_train_lr)"
   ]
  },
  {
   "cell_type": "code",
   "execution_count": 77,
   "metadata": {},
   "outputs": [
    {
     "name": "stdout",
     "output_type": "stream",
     "text": [
      "[[[269.92541967]\n",
      "  [270.67334448]\n",
      "  [273.99313818]\n",
      "  ...\n",
      "  [278.56619726]\n",
      "  [278.46967016]\n",
      "  [277.98782812]]\n",
      "\n",
      " [[269.92202666]\n",
      "  [270.66995146]\n",
      "  [273.98974516]\n",
      "  ...\n",
      "  [278.56280425]\n",
      "  [278.46627715]\n",
      "  [277.98443511]]\n",
      "\n",
      " [[269.90716401]\n",
      "  [270.65508882]\n",
      "  [273.97488252]\n",
      "  ...\n",
      "  [278.5479416 ]\n",
      "  [278.4514145 ]\n",
      "  [277.96957246]]\n",
      "\n",
      " ...\n",
      "\n",
      " [[269.88718072]\n",
      "  [270.63510552]\n",
      "  [273.95489922]\n",
      "  ...\n",
      "  [278.5279583 ]\n",
      "  [278.4314312 ]\n",
      "  [277.94958916]]\n",
      "\n",
      " [[269.88759693]\n",
      "  [270.63552174]\n",
      "  [273.95531544]\n",
      "  ...\n",
      "  [278.52837452]\n",
      "  [278.43184742]\n",
      "  [277.95000538]]\n",
      "\n",
      " [[269.88967853]\n",
      "  [270.63760334]\n",
      "  [273.95739704]\n",
      "  ...\n",
      "  [278.53045612]\n",
      "  [278.43392902]\n",
      "  [277.95208698]]]\n"
     ]
    }
   ],
   "source": [
    "print(train_pred_lstm-x_train_lstm)"
   ]
  },
  {
   "cell_type": "code",
   "execution_count": null,
   "metadata": {},
   "outputs": [],
   "source": []
  }
 ],
 "metadata": {
  "kernelspec": {
   "display_name": "conda_pytorch_p36",
   "language": "python",
   "name": "conda_pytorch_p36"
  },
  "language_info": {
   "codemirror_mode": {
    "name": "ipython",
    "version": 3
   },
   "file_extension": ".py",
   "mimetype": "text/x-python",
   "name": "python",
   "nbconvert_exporter": "python",
   "pygments_lexer": "ipython3",
   "version": "3.6.10"
  }
 },
 "nbformat": 4,
 "nbformat_minor": 4
}
