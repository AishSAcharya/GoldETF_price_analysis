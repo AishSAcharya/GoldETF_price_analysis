{
 "cells": [
  {
   "cell_type": "code",
   "execution_count": 3,
   "metadata": {
    "scrolled": true
   },
   "outputs": [],
   "source": [
    "#pip install pandas-datareader\n",
    "#!pip install keras\n",
    "#!pip install tensorflow\n",
    "import tensorflow\n",
    "import keras\n",
    "#!pip install pandas\n",
    "import pandas\n",
    "import numpy"
   ]
  },
  {
   "cell_type": "code",
   "execution_count": 4,
   "metadata": {},
   "outputs": [],
   "source": [
    "#!pip install keras"
   ]
  },
  {
   "cell_type": "code",
   "execution_count": 5,
   "metadata": {},
   "outputs": [],
   "source": [
    "#!pip3 install pandas_datareader"
   ]
  },
  {
   "cell_type": "code",
   "execution_count": 6,
   "metadata": {},
   "outputs": [],
   "source": [
    "import pandas_datareader.data as web\n",
    "import pandas as pd\n",
    "import datetime\n",
    "import numpy as np\n",
    "import matplotlib.pyplot as plt\n",
    "%matplotlib inline\n",
    "from numpy import array\n",
    "import sklearn\n",
    "from sklearn import preprocessing\n",
    "from sklearn.tree import DecisionTreeRegressor\n",
    "from sklearn.linear_model import LinearRegression\n",
    "from sklearn.model_selection import train_test_split\n",
    "from sklearn.pipeline import Pipeline\n",
    "from sklearn.linear_model import HuberRegressor\n",
    "from sklearn.preprocessing import MinMaxScaler\n",
    "import tensorflow as tf\n",
    "from keras.models import Sequential\n",
    "from keras.layers import Dense\n",
    "from keras.layers import LSTM\n"
   ]
  },
  {
   "cell_type": "code",
   "execution_count": 7,
   "metadata": {},
   "outputs": [],
   "source": [
    "start = datetime.datetime(2014, 1, 1)\n",
    "end = datetime.datetime(2020, 7, 24)"
   ]
  },
  {
   "cell_type": "code",
   "execution_count": 8,
   "metadata": {},
   "outputs": [],
   "source": [
    "###axisgold = web.DataReader(\"AXISGOLD.NS\", 'yahoo', start, end)\n",
    "###bslgoldetf = web.DataReader(\"BSLGOLDETF.NS\", 'yahoo', start, end)\n",
    "#cangold = web.DataReader(\"CANGOLD.BO\", 'yahoo', start, end)\n",
    "#hfcmgetf = web.DataReader(\"HFCMFGETF.BO\", 'yahoo', start, end)\n",
    "#ipgetf = web.DataReader(\"IPGETF.BO\", 'yahoo', start, end)\n",
    "###idbigold = web.DataReader(\"IDBIGOLD.NS\", 'yahoo', start, end)\n",
    "kotakgold = web.DataReader(\"KOTAKGOLD.NS\", 'yahoo', start, end)\n",
    "###qgoldhalf = web.DataReader(\"QGOLDHALF.NS\", 'yahoo', start, end)\n",
    "#relgold = web.DataReader(\"RELGOLD.BO\", 'yahoo', start, end)\n",
    "#religarego = web.DataReader(\"RELIGAREGO.BO\", 'yahoo', start, end)\n",
    "#setfgold = web.DataReader(\"SETFGOLD.NS\", 'yahoo', start, end)\n",
    "###goldshare = web.DataReader(\"GOLDSHARE.NS\", 'yahoo', start, end)\n",
    "###goldbees = web.DataReader(\"GOLDBEES.NS\", 'yahoo', start, end)"
   ]
  },
  {
   "cell_type": "code",
   "execution_count": 9,
   "metadata": {
    "scrolled": true
   },
   "outputs": [],
   "source": [
    "###axisgold.to_csv('AXISGOLD.csv')\n",
    "###bslgoldetf.to_csv('BSLGOLDETF.csv')\n",
    "###idbigold.to_csv('IDBIGOLD.csv')\n",
    "kotakgold.to_csv('KOTAKGOLD.csv')\n",
    "###qgoldhalf.to_csv('QGOLDHALF.csv')\n",
    "#setfgold.to_csv('SETFGOLD.csv')\n",
    "####goldshare.to_csv('GOLDSHARE.csv')\n",
    "###goldbees.to_csv('GOLDBEES.csv')"
   ]
  },
  {
   "cell_type": "code",
   "execution_count": 10,
   "metadata": {},
   "outputs": [
    {
     "data": {
      "text/plain": [
       "<matplotlib.legend.Legend at 0x7faea95899e8>"
      ]
     },
     "execution_count": 10,
     "metadata": {},
     "output_type": "execute_result"
    },
    {
     "data": {
      "image/png": "[encoded data removed]",
      "text/plain": [
       "<Figure size 432x288 with 1 Axes>"
      ]
     },
     "metadata": {
      "needs_background": "light"
     },
     "output_type": "display_data"
    }
   ],
   "source": [
    "###axisgold['Open'].plot(label = 'axisgold', figsize= (15,7))\n",
    "###bslgoldetf['Open'].plot(label = 'bslgoldetf')\n",
    "###idbigold['Open'].plot(label = 'idbigold')\n",
    "kotakgold['Open'].plot(label = 'kotakgold')\n",
    "###qgoldhalf['Open'].plot(label = 'qgoldhalf')\n",
    "###goldshare['Open'].plot(label = 'goldshare')\n",
    "###goldbees['Open'].plot(label = 'goldbees')\n",
    "plt.title('Gold ETF stock price')\n",
    "plt.legend()"
   ]
  },
  {
   "cell_type": "code",
   "execution_count": 11,
   "metadata": {},
   "outputs": [],
   "source": [
    "#We are going to predict the price of one Gold ETF below. Similarly all other predictions can also be made. Let us chose Axisgold ETF"
   ]
  },
  {
   "cell_type": "code",
   "execution_count": 12,
   "metadata": {},
   "outputs": [],
   "source": [
    "#Modeling uing LSTM model\n"
   ]
  },
  {
   "cell_type": "code",
   "execution_count": 13,
   "metadata": {},
   "outputs": [],
   "source": [
    "#data_1 = pd.read_csv('AXISGOLD.csv')\n",
    "data_1 = pd.read_csv('KOTAKGOLD.csv')\n",
    "\n"
   ]
  },
  {
   "cell_type": "code",
   "execution_count": 14,
   "metadata": {},
   "outputs": [
    {
     "name": "stdout",
     "output_type": "stream",
     "text": [
      "(1535, 1)\n"
     ]
    },
    {
     "data": {
      "text/html": [
       "<div>\n",
       "<style scoped>\n",
       "    .dataframe tbody tr th:only-of-type {\n",
       "        vertical-align: middle;\n",
       "    }\n",
       "\n",
       "    .dataframe tbody tr th {\n",
       "        vertical-align: top;\n",
       "    }\n",
       "\n",
       "    .dataframe thead th {\n",
       "        text-align: right;\n",
       "    }\n",
       "</style>\n",
       "<table border=\"1\" class=\"dataframe\">\n",
       "  <thead>\n",
       "    <tr style=\"text-align: right;\">\n",
       "      <th></th>\n",
       "      <th>Adj Close</th>\n",
       "    </tr>\n",
       "  </thead>\n",
       "  <tbody>\n",
       "    <tr>\n",
       "      <th>0</th>\n",
       "      <td>272.364990</td>\n",
       "    </tr>\n",
       "    <tr>\n",
       "      <th>1</th>\n",
       "      <td>273.179993</td>\n",
       "    </tr>\n",
       "    <tr>\n",
       "      <th>2</th>\n",
       "      <td>276.750000</td>\n",
       "    </tr>\n",
       "    <tr>\n",
       "      <th>3</th>\n",
       "      <td>276.350006</td>\n",
       "    </tr>\n",
       "  </tbody>\n",
       "</table>\n",
       "</div>"
      ],
      "text/plain": [
       "    Adj Close\n",
       "0  272.364990\n",
       "1  273.179993\n",
       "2  276.750000\n",
       "3  276.350006"
      ]
     },
     "execution_count": 14,
     "metadata": {},
     "output_type": "execute_result"
    }
   ],
   "source": [
    "# Select Adjusted close data\n",
    "data = data_1[['Adj Close']]\n",
    "print(data.shape)\n",
    "data.head(4)"
   ]
  },
  {
   "cell_type": "code",
   "execution_count": 15,
   "metadata": {},
   "outputs": [],
   "source": [
    "from sklearn.preprocessing import MinMaxScaler\n",
    "scaler=MinMaxScaler(feature_range=(0,1))\n",
    "data=scaler.fit_transform(np.array(data).reshape(-1,1))"
   ]
  },
  {
   "cell_type": "code",
   "execution_count": 16,
   "metadata": {},
   "outputs": [
    {
     "name": "stdout",
     "output_type": "stream",
     "text": [
      "[[0.27561236]\n",
      " [0.28009902]\n",
      " [0.29975224]\n",
      " ...\n",
      " [0.90668862]\n",
      " [1.        ]\n",
      " [0.98761354]]\n"
     ]
    }
   ],
   "source": [
    "print(data)"
   ]
  },
  {
   "cell_type": "code",
   "execution_count": 17,
   "metadata": {},
   "outputs": [],
   "source": [
    "#Split data 80% training 20% testing\n",
    "\n",
    "training_size=int(len(data)*0.8)\n",
    "test_size=len(data)-training_size\n",
    "train_data,test_data=data[0:training_size],data[training_size:len(data)]"
   ]
  },
  {
   "cell_type": "code",
   "execution_count": 18,
   "metadata": {},
   "outputs": [
    {
     "data": {
      "text/plain": [
       "(1228, 307)"
      ]
     },
     "execution_count": 18,
     "metadata": {},
     "output_type": "execute_result"
    }
   ],
   "source": [
    "training_size,test_size"
   ]
  },
  {
   "cell_type": "code",
   "execution_count": 19,
   "metadata": {},
   "outputs": [
    {
     "data": {
      "text/plain": [
       "array([[0.27561236],\n",
       "       [0.28009902],\n",
       "       [0.29975224],\n",
       "       ...,\n",
       "       [0.29810078],\n",
       "       [0.30250478],\n",
       "       [0.29865115]])"
      ]
     },
     "execution_count": 19,
     "metadata": {},
     "output_type": "execute_result"
    }
   ],
   "source": [
    "train_data"
   ]
  },
  {
   "cell_type": "code",
   "execution_count": 20,
   "metadata": {},
   "outputs": [],
   "source": [
    "def create_dataset(dataset, time_step=1):\n",
    "    dataX, dataY = [], []\n",
    "    for i in range(len(dataset)-time_step-1):\n",
    "        a = dataset[i:(i+time_step), 0]   ###i=0, 0,1,2,3-----99   100 \n",
    "        dataX.append(a)\n",
    "        dataY.append(dataset[i + time_step, 0])\n",
    "    return numpy.array(dataX), numpy.array(dataY)"
   ]
  },
  {
   "cell_type": "code",
   "execution_count": 21,
   "metadata": {},
   "outputs": [],
   "source": [
    "#reshape into X=t,t+1,t+2,t+3 and Y=t+4\n",
    "time_step = 1\n",
    "x_train, y_train = create_dataset(train_data, time_step)\n",
    "x_test, y_test = create_dataset(test_data, time_step)\n",
    "#x_train, x_test, y_train, y_test = train_test_split(X, y, test_size = 0.2)"
   ]
  },
  {
   "cell_type": "code",
   "execution_count": 22,
   "metadata": {},
   "outputs": [
    {
     "name": "stdout",
     "output_type": "stream",
     "text": [
      "(1226, 1)\n",
      "(1226,)\n"
     ]
    },
    {
     "data": {
      "text/plain": [
       "(None, None)"
      ]
     },
     "execution_count": 22,
     "metadata": {},
     "output_type": "execute_result"
    }
   ],
   "source": [
    "print(x_train.shape), print(y_train.shape)"
   ]
  },
  {
   "cell_type": "code",
   "execution_count": 23,
   "metadata": {},
   "outputs": [
    {
     "name": "stdout",
     "output_type": "stream",
     "text": [
      "(305, 1)\n",
      "(305,)\n"
     ]
    },
    {
     "data": {
      "text/plain": [
       "(None, None)"
      ]
     },
     "execution_count": 23,
     "metadata": {},
     "output_type": "execute_result"
    }
   ],
   "source": [
    "print(x_test.shape), print(y_test.shape)\n"
   ]
  },
  {
   "cell_type": "code",
   "execution_count": 24,
   "metadata": {},
   "outputs": [],
   "source": [
    "# reshape input to be [samples, time steps, features] which is required for LSTM\n",
    "#x_train =x_train.reshape(x_train.shape[0],x_train.shape[1] , 1)\n",
    "#x_test = x_test.reshape(x_test.shape[0],x_test.shape[1] , 1)"
   ]
  },
  {
   "cell_type": "code",
   "execution_count": 25,
   "metadata": {},
   "outputs": [
    {
     "data": {
      "text/plain": [
       "((1226, 1), (305, 1))"
      ]
     },
     "execution_count": 25,
     "metadata": {},
     "output_type": "execute_result"
    }
   ],
   "source": [
    "x_train.shape, x_test.shape"
   ]
  },
  {
   "cell_type": "code",
   "execution_count": 26,
   "metadata": {},
   "outputs": [
    {
     "data": {
      "text/plain": [
       "array([[0.27561236],\n",
       "       [0.28009902],\n",
       "       [0.29975224],\n",
       "       ...,\n",
       "       [0.28571432],\n",
       "       [0.29672451],\n",
       "       [0.29810078]])"
      ]
     },
     "execution_count": 26,
     "metadata": {},
     "output_type": "execute_result"
    }
   ],
   "source": [
    "x_train"
   ]
  },
  {
   "cell_type": "code",
   "execution_count": 27,
   "metadata": {},
   "outputs": [
    {
     "data": {
      "text/plain": [
       "LinearRegression(copy_X=True, fit_intercept=True, n_jobs=None, normalize=False)"
      ]
     },
     "execution_count": 27,
     "metadata": {},
     "output_type": "execute_result"
    }
   ],
   "source": [
    "#Create models\n",
    "#Create decision tree model\n",
    "#modeltree = DecisionTreeRegressor()\n",
    "#modeltree.fit(x_train, y_train)\n",
    "\n",
    "#Create linear decision model\n",
    "modellr = LinearRegression()\n",
    "modellr.fit(x_train, y_train)"
   ]
  },
  {
   "cell_type": "code",
   "execution_count": 28,
   "metadata": {},
   "outputs": [
    {
     "name": "stdout",
     "output_type": "stream",
     "text": [
      "Slope:  0.9911053209546755\n",
      "Intercept:  0.0017852822147982061\n"
     ]
    },
    {
     "name": "stderr",
     "output_type": "stream",
     "text": [
      "/home/ec2-user/anaconda3/envs/pytorch_p36/lib/python3.6/site-packages/ipykernel/__main__.py:2: DeprecationWarning: np.asscalar(a) is deprecated since NumPy v1.16, use a.item() instead\n",
      "  from ipykernel import kernelapp as app\n"
     ]
    }
   ],
   "source": [
    "# The coefficient\n",
    "print('Slope: ', np.asscalar(np.squeeze(modellr.coef_)))\n",
    "# The Intercept\n",
    "print('Intercept: ', modellr.intercept_)"
   ]
  },
  {
   "cell_type": "code",
   "execution_count": 33,
   "metadata": {},
   "outputs": [
    {
     "data": {
      "image/png": "[encoded data removed]",
      "text/plain": [
       "<Figure size 1152x720 with 1 Axes>"
      ]
     },
     "metadata": {
      "needs_background": "light"
     },
     "output_type": "display_data"
    }
   ],
   "source": [
    "# Train set graph\n",
    "plt.figure(1, figsize=(16,10))\n",
    "plt.title('Linear Regression | Price vs Time')\n",
    "plt.scatter(x_train, y_train, edgecolor='w', label='Actual Price')\n",
    "plt.plot(x_train, modellr.predict(x_train), color='r', label='Predicted Price')\n",
    "plt.xlabel('Integer Date')\n",
    "plt.ylabel('Stock Price')\n",
    "plt.legend()\n",
    "plt.show()"
   ]
  },
  {
   "cell_type": "code",
   "execution_count": 34,
   "metadata": {},
   "outputs": [
    {
     "data": {
      "text/plain": [
       "array([[0.30112851],\n",
       "       [0.30883561],\n",
       "       [0.31791898],\n",
       "       [0.31296443],\n",
       "       [0.30911096],\n",
       "       [0.30745933],\n",
       "       [0.31351497],\n",
       "       [0.32975506],\n",
       "       [0.32865397],\n",
       "       [0.33030543],\n",
       "       [0.33278279],\n",
       "       [0.33828788],\n",
       "       [0.33938897],\n",
       "       [0.33305798],\n",
       "       [0.32590143],\n",
       "       [0.33305798],\n",
       "       [0.33415906],\n",
       "       [0.32562624],\n",
       "       [0.32810343],\n",
       "       [0.34792179],\n",
       "       [0.35590424],\n",
       "       [0.36498761],\n",
       "       [0.36718962],\n",
       "       [0.37324525],\n",
       "       [0.37709871],\n",
       "       [0.38177808],\n",
       "       [0.38095234],\n",
       "       [0.3630608 ],\n",
       "       [0.36498761],\n",
       "       [0.36801535],\n",
       "       [0.36168452],\n",
       "       [0.35948252],\n",
       "       [0.37407098],\n",
       "       [0.39223772],\n",
       "       [0.39471507],\n",
       "       [0.40572526],\n",
       "       [0.4032479 ],\n",
       "       [0.38370489],\n",
       "       [0.38838425],\n",
       "       [0.38205343],\n",
       "       [0.38453062],\n",
       "       [0.3834297 ],\n",
       "       [0.3531517 ],\n",
       "       [0.32837878],\n",
       "       [0.33003024],\n",
       "       [0.32314888],\n",
       "       [0.34186616],\n",
       "       [0.33966416],\n",
       "       [0.33278279],\n",
       "       [0.33388388],\n",
       "       [0.33003024],\n",
       "       [0.32782824],\n",
       "       [0.31984579],\n",
       "       [0.32314888],\n",
       "       [0.31599233],\n",
       "       [0.32617661],\n",
       "       [0.32562624],\n",
       "       [0.32287369],\n",
       "       [0.31874487],\n",
       "       [0.3165427 ],\n",
       "       [0.31021188],\n",
       "       [0.3044316 ],\n",
       "       [0.30635842],\n",
       "       [0.32259834],\n",
       "       [0.32122206],\n",
       "       [0.32480034],\n",
       "       [0.32837878],\n",
       "       [0.32920451],\n",
       "       [0.32672716],\n",
       "       [0.32094688],\n",
       "       [0.31186351],\n",
       "       [0.31379016],\n",
       "       [0.3022296 ],\n",
       "       [0.31571697],\n",
       "       [0.31048724],\n",
       "       [0.31461605],\n",
       "       [0.32672716],\n",
       "       [0.32204779],\n",
       "       [0.32920451],\n",
       "       [0.31351497],\n",
       "       [0.3165427 ],\n",
       "       [0.3250757 ],\n",
       "       [0.3316817 ],\n",
       "       [0.31516643],\n",
       "       [0.32287369],\n",
       "       [0.31902006],\n",
       "       [0.32012115],\n",
       "       [0.3380127 ],\n",
       "       [0.33388388],\n",
       "       [0.32892916],\n",
       "       [0.31489124],\n",
       "       [0.30057797],\n",
       "       [0.29672451],\n",
       "       [0.29589861],\n",
       "       [0.29892651],\n",
       "       [0.30525733],\n",
       "       [0.30525733],\n",
       "       [0.31076242],\n",
       "       [0.31048724],\n",
       "       [0.30470679],\n",
       "       [0.32094688],\n",
       "       [0.33333333],\n",
       "       [0.33938897],\n",
       "       [0.34792179],\n",
       "       [0.34984861],\n",
       "       [0.34214151],\n",
       "       [0.3294797 ],\n",
       "       [0.34269189],\n",
       "       [0.34571979],\n",
       "       [0.36663907],\n",
       "       [0.3781998 ],\n",
       "       [0.36553815],\n",
       "       [0.36058344],\n",
       "       [0.39609135],\n",
       "       [0.39939444],\n",
       "       [0.41012926],\n",
       "       [0.43297553],\n",
       "       [0.4032479 ],\n",
       "       [0.39526562],\n",
       "       [0.41095516],\n",
       "       [0.37930088],\n",
       "       [0.38315435],\n",
       "       [0.41012926],\n",
       "       [0.39746762],\n",
       "       [0.41453344],\n",
       "       [0.42829617],\n",
       "       [0.41370771],\n",
       "       [0.41646026],\n",
       "       [0.43793008],\n",
       "       [0.43737954],\n",
       "       [0.44343517],\n",
       "       [0.44343517],\n",
       "       [0.43545272],\n",
       "       [0.45554627],\n",
       "       [0.48637482],\n",
       "       [0.47619037],\n",
       "       [0.45967509],\n",
       "       [0.45389481],\n",
       "       [0.45472054],\n",
       "       [0.44701345],\n",
       "       [0.44811453],\n",
       "       [0.45802363],\n",
       "       [0.45829882],\n",
       "       [0.44591236],\n",
       "       [0.47949346],\n",
       "       [0.57445629],\n",
       "       [0.55408755],\n",
       "       [0.59757775],\n",
       "       [0.58051193],\n",
       "       [0.59069638],\n",
       "       [0.65042666],\n",
       "       [0.61491875],\n",
       "       [0.61244139],\n",
       "       [0.61436821],\n",
       "       [0.61684557],\n",
       "       [0.62482785],\n",
       "       [0.63005775],\n",
       "       [0.61134048],\n",
       "       [0.66804286],\n",
       "       [0.66446458],\n",
       "       [0.67052021],\n",
       "       [0.68758603],\n",
       "       [0.6556564 ],\n",
       "       [0.67960358],\n",
       "       [0.70575277],\n",
       "       [0.71979069],\n",
       "       [0.66116149],\n",
       "       [0.65125239],\n",
       "       [0.62978257],\n",
       "       [0.61244139],\n",
       "       [0.60913847],\n",
       "       [0.61491875],\n",
       "       [0.62620412],\n",
       "       [0.61354248],\n",
       "       [0.59647666],\n",
       "       [0.59152211],\n",
       "       [0.61161566],\n",
       "       [0.61299194],\n",
       "       [0.62950721],\n",
       "       [0.59977975],\n",
       "       [0.61189102],\n",
       "       [0.61877238],\n",
       "       [0.59317357],\n",
       "       [0.62868148],\n",
       "       [0.6405174 ],\n",
       "       [0.64409567],\n",
       "       [0.63859058],\n",
       "       [0.65207812],\n",
       "       [0.65648213],\n",
       "       [0.65703267],\n",
       "       [0.66336349],\n",
       "       [0.64987612],\n",
       "       [0.6534544 ],\n",
       "       [0.65207812],\n",
       "       [0.64987612],\n",
       "       [0.65152758],\n",
       "       [0.65675748],\n",
       "       [0.67327276],\n",
       "       [0.64547195],\n",
       "       [0.6405174 ],\n",
       "       [0.65455548],\n",
       "       [0.66611604],\n",
       "       [0.66363885],\n",
       "       [0.66061095],\n",
       "       [0.64437103],\n",
       "       [0.64849985],\n",
       "       [0.62537839],\n",
       "       [0.62262585],\n",
       "       [0.6229012 ],\n",
       "       [0.63143403],\n",
       "       [0.62510321],\n",
       "       [0.6229012 ],\n",
       "       [0.6275804 ],\n",
       "       [0.63638858],\n",
       "       [0.62730521],\n",
       "       [0.63363603],\n",
       "       [0.61381767],\n",
       "       [0.6099642 ],\n",
       "       [0.61381767],\n",
       "       [0.61436821],\n",
       "       [0.61739611],\n",
       "       [0.62042384],\n",
       "       [0.61877238],\n",
       "       [0.63033294],\n",
       "       [0.63115884],\n",
       "       [0.63198457],\n",
       "       [0.61932276],\n",
       "       [0.62262585],\n",
       "       [0.63088349],\n",
       "       [0.6220753 ],\n",
       "       [0.62895667],\n",
       "       [0.62482785],\n",
       "       [0.62730521],\n",
       "       [0.62813094],\n",
       "       [0.62317639],\n",
       "       [0.62703002],\n",
       "       [0.63473712],\n",
       "       [0.64382048],\n",
       "       [0.66584085],\n",
       "       [0.66253776],\n",
       "       [0.6663914 ],\n",
       "       [0.68318186],\n",
       "       [0.67932839],\n",
       "       [0.68235613],\n",
       "       [0.7195155 ],\n",
       "       [0.76768505],\n",
       "       [0.72914941],\n",
       "       [0.75997796],\n",
       "       [0.71483614],\n",
       "       [0.71290932],\n",
       "       [0.70492704],\n",
       "       [0.70410131],\n",
       "       [0.71318468],\n",
       "       [0.71043213],\n",
       "       [0.71043213],\n",
       "       [0.71648777],\n",
       "       [0.71896496],\n",
       "       [0.71235895],\n",
       "       [0.71758868],\n",
       "       [0.72199286],\n",
       "       [0.75116978],\n",
       "       [0.75227086],\n",
       "       [0.74483896],\n",
       "       [0.76520769],\n",
       "       [0.75282124],\n",
       "       [0.75502341],\n",
       "       [0.7423616 ],\n",
       "       [0.71924031],\n",
       "       [0.73630596],\n",
       "       [0.74015959],\n",
       "       [0.75254605],\n",
       "       [0.74924296],\n",
       "       [0.73988441],\n",
       "       [0.74951832],\n",
       "       [0.75254605],\n",
       "       [0.75667487],\n",
       "       [0.76851078],\n",
       "       [0.79245797],\n",
       "       [0.7932837 ],\n",
       "       [0.89457736],\n",
       "       [0.8494357 ],\n",
       "       [0.84255434],\n",
       "       [0.84393061],\n",
       "       [0.85301398],\n",
       "       [0.82603906],\n",
       "       [0.82576371],\n",
       "       [0.8744838 ],\n",
       "       [0.87365807],\n",
       "       [0.9284338 ],\n",
       "       [0.90421127],\n",
       "       [0.89347644],\n",
       "       [0.87943835],\n",
       "       [0.81475352],\n",
       "       [0.77621788],\n",
       "       [0.72391951],\n",
       "       [0.75887687],\n",
       "       [0.71290932],\n",
       "       [0.74704096],\n",
       "       [0.71621241],\n",
       "       [0.8161298 ],\n",
       "       [0.85026143],\n",
       "       [0.84695834],\n",
       "       [0.88439307],\n",
       "       [0.948252  ],\n",
       "       [0.90668862]])"
      ]
     },
     "execution_count": 34,
     "metadata": {},
     "output_type": "execute_result"
    }
   ],
   "source": [
    "# Create test arrays\n",
    "x_test "
   ]
  },
  {
   "cell_type": "code",
   "execution_count": 35,
   "metadata": {},
   "outputs": [],
   "source": [
    "# Generate array with predicted values\n",
    "y_train_pred = modellr.predict(x_train)\n",
    "y_pred = modellr.predict(x_test)"
   ]
  },
  {
   "cell_type": "code",
   "execution_count": 36,
   "metadata": {},
   "outputs": [],
   "source": [
    "# reshape input to be [samples, time steps, features] which is required for LSTM\n",
    "y_train_pred =y_train_pred.reshape(y_train_pred.shape[0], 1)\n",
    "y_pred = y_pred.reshape(y_pred.shape[0], 1)"
   ]
  },
  {
   "cell_type": "code",
   "execution_count": 37,
   "metadata": {},
   "outputs": [
    {
     "data": {
      "text/plain": [
       "array([[276.83775761],\n",
       "       [278.22529901],\n",
       "       [279.86061674],\n",
       "       [278.968628  ],\n",
       "       [278.27487243],\n",
       "       [277.97752268],\n",
       "       [279.06774459],\n",
       "       [281.99151738],\n",
       "       [281.79328422],\n",
       "       [282.09060372],\n",
       "       [282.53661321],\n",
       "       [283.52771853],\n",
       "       [283.72595169],\n",
       "       [282.58615638],\n",
       "       [281.29773156],\n",
       "       [282.58615638],\n",
       "       [282.78438954],\n",
       "       [281.24818839],\n",
       "       [281.69416764],\n",
       "       [285.26215284],\n",
       "       [286.69926766],\n",
       "       [288.33458539],\n",
       "       [288.73102147],\n",
       "       [289.82124337],\n",
       "       [290.51499894],\n",
       "       [291.35744452],\n",
       "       [291.20878477],\n",
       "       [287.98769247],\n",
       "       [288.33458539],\n",
       "       [288.87968121],\n",
       "       [287.73991614],\n",
       "       [287.34348007],\n",
       "       [289.96990312],\n",
       "       [293.24053858],\n",
       "       [293.68654807],\n",
       "       [295.66875871],\n",
       "       [295.22274922],\n",
       "       [291.70433743],\n",
       "       [292.546783  ],\n",
       "       [291.40701793],\n",
       "       [291.85299718],\n",
       "       [291.65479426],\n",
       "       [286.203715  ],\n",
       "       [281.74374105],\n",
       "       [282.04106055],\n",
       "       [280.8021789 ],\n",
       "       [284.17193094],\n",
       "       [283.77549486],\n",
       "       [282.53661321],\n",
       "       [282.73484637],\n",
       "       [282.04106055],\n",
       "       [281.64462447],\n",
       "       [280.20750966],\n",
       "       [280.8021789 ],\n",
       "       [279.51375408],\n",
       "       [281.34727473],\n",
       "       [281.24818839],\n",
       "       [280.75263573],\n",
       "       [280.00930674],\n",
       "       [279.61284041],\n",
       "       [278.47307534],\n",
       "       [277.43242686],\n",
       "       [277.77931977],\n",
       "       [280.70306232],\n",
       "       [280.45528599],\n",
       "       [281.0994984 ],\n",
       "       [281.74374105],\n",
       "       [281.8924008 ],\n",
       "       [281.44639131],\n",
       "       [280.40574282],\n",
       "       [278.77042509],\n",
       "       [279.11728775],\n",
       "       [277.03599078],\n",
       "       [279.46418067],\n",
       "       [278.52264876],\n",
       "       [279.26597775],\n",
       "       [281.44639131],\n",
       "       [280.60394574],\n",
       "       [281.8924008 ],\n",
       "       [279.06774459],\n",
       "       [279.61284041],\n",
       "       [281.14907181],\n",
       "       [282.33838005],\n",
       "       [279.36506408],\n",
       "       [280.75263573],\n",
       "       [280.05884991],\n",
       "       [280.25708307],\n",
       "       [283.47817536],\n",
       "       [282.73484637],\n",
       "       [281.84282739],\n",
       "       [279.31552092],\n",
       "       [276.73864103],\n",
       "       [276.04488546],\n",
       "       [275.89619546],\n",
       "       [276.44132153],\n",
       "       [277.5810866 ],\n",
       "       [277.5810866 ],\n",
       "       [278.57219193],\n",
       "       [278.52264876],\n",
       "       [277.48197002],\n",
       "       [280.40574282],\n",
       "       [282.63572979],\n",
       "       [283.72595169],\n",
       "       [285.26215284],\n",
       "       [285.60904575],\n",
       "       [284.22150435],\n",
       "       [281.94194397],\n",
       "       [284.32059069],\n",
       "       [284.86571676],\n",
       "       [288.63190488],\n",
       "       [290.71323211],\n",
       "       [288.43370197],\n",
       "       [287.54168298],\n",
       "       [293.9343244 ],\n",
       "       [294.52899364],\n",
       "       [296.46163087],\n",
       "       [300.57474215],\n",
       "       [295.22274922],\n",
       "       [293.78566465],\n",
       "       [296.61032087],\n",
       "       [290.91146527],\n",
       "       [291.60522085],\n",
       "       [296.46163087],\n",
       "       [294.18210073],\n",
       "       [297.25453327],\n",
       "       [299.73229658],\n",
       "       [297.10587353],\n",
       "       [297.60142619],\n",
       "       [301.46673089],\n",
       "       [301.36761431],\n",
       "       [302.45783621],\n",
       "       [302.45783621],\n",
       "       [301.0207214 ],\n",
       "       [304.63824977],\n",
       "       [310.18844561],\n",
       "       [308.35489472],\n",
       "       [305.38157876],\n",
       "       [304.34093027],\n",
       "       [304.48959002],\n",
       "       [303.10204862],\n",
       "       [303.30028178],\n",
       "       [305.08425926],\n",
       "       [305.13380243],\n",
       "       [302.90381546],\n",
       "       [308.94956396],\n",
       "       [326.04613075],\n",
       "       [322.37905921],\n",
       "       [330.2087852 ],\n",
       "       [327.13635265],\n",
       "       [328.96990355],\n",
       "       [339.72340233],\n",
       "       [333.33076091],\n",
       "       [332.88475142],\n",
       "       [333.23164433],\n",
       "       [333.67765382],\n",
       "       [335.11473839],\n",
       "       [336.05630054],\n",
       "       [332.6865485 ],\n",
       "       [342.89492121],\n",
       "       [342.2507088 ],\n",
       "       [343.3409307 ],\n",
       "       [346.41336324],\n",
       "       [340.66493423],\n",
       "       [344.97624843],\n",
       "       [349.6839987 ],\n",
       "       [352.21130517],\n",
       "       [341.65603956],\n",
       "       [339.87206208],\n",
       "       [336.00675737],\n",
       "       [332.88475142],\n",
       "       [332.29011242],\n",
       "       [333.33076091],\n",
       "       [335.36251472],\n",
       "       [333.08298458],\n",
       "       [330.01055203],\n",
       "       [329.11856329],\n",
       "       [332.73609167],\n",
       "       [332.983868  ],\n",
       "       [335.95718396],\n",
       "       [330.60522128],\n",
       "       [332.78566508],\n",
       "       [334.02454673],\n",
       "       [329.41588279],\n",
       "       [335.80852421],\n",
       "       [337.9393946 ],\n",
       "       [338.58360701],\n",
       "       [337.59250169],\n",
       "       [340.02072182],\n",
       "       [340.81359398],\n",
       "       [340.91271056],\n",
       "       [342.05247563],\n",
       "       [339.62428575],\n",
       "       [340.26849816],\n",
       "       [340.02072182],\n",
       "       [339.62428575],\n",
       "       [339.92160524],\n",
       "       [340.8631674 ],\n",
       "       [343.83648336],\n",
       "       [338.83138334],\n",
       "       [337.9393946 ],\n",
       "       [340.46673132],\n",
       "       [342.54802829],\n",
       "       [342.10204905],\n",
       "       [341.55692297],\n",
       "       [338.63318042],\n",
       "       [339.37650942],\n",
       "       [335.21385497],\n",
       "       [334.71830231],\n",
       "       [334.76787572],\n",
       "       [336.30407687],\n",
       "       [335.1643118 ],\n",
       "       [334.76787572],\n",
       "       [335.61029105],\n",
       "       [337.19606561],\n",
       "       [335.56074788],\n",
       "       [336.70051295],\n",
       "       [333.13252775],\n",
       "       [332.43877217],\n",
       "       [333.13252775],\n",
       "       [333.23164433],\n",
       "       [333.7767704 ],\n",
       "       [334.32186623],\n",
       "       [334.02454673],\n",
       "       [336.10584371],\n",
       "       [336.2545337 ],\n",
       "       [336.40319345],\n",
       "       [334.12363307],\n",
       "       [334.71830231],\n",
       "       [336.20496029],\n",
       "       [334.61918573],\n",
       "       [335.85806738],\n",
       "       [335.11473839],\n",
       "       [335.56074788],\n",
       "       [335.70940763],\n",
       "       [334.81741889],\n",
       "       [335.51120471],\n",
       "       [336.89874611],\n",
       "       [338.53406384],\n",
       "       [342.49848513],\n",
       "       [341.90381589],\n",
       "       [342.59760171],\n",
       "       [345.62046084],\n",
       "       [344.92670526],\n",
       "       [345.47180109],\n",
       "       [352.16176201],\n",
       "       [360.83393356],\n",
       "       [353.89619632],\n",
       "       [359.44639216],\n",
       "       [351.31931643],\n",
       "       [350.97242352],\n",
       "       [349.53533896],\n",
       "       [349.38667921],\n",
       "       [351.02199694],\n",
       "       [350.52644428],\n",
       "       [350.52644428],\n",
       "       [351.61666618],\n",
       "       [352.06264543],\n",
       "       [350.87333719],\n",
       "       [351.8148691 ],\n",
       "       [352.6077715 ],\n",
       "       [357.8606176 ],\n",
       "       [358.05885076],\n",
       "       [356.72085253],\n",
       "       [360.38792407],\n",
       "       [358.1579371 ],\n",
       "       [358.55440343],\n",
       "       [356.27484304],\n",
       "       [352.11221884],\n",
       "       [355.18462114],\n",
       "       [355.87840696],\n",
       "       [358.10839393],\n",
       "       [357.51372469],\n",
       "       [355.82886379],\n",
       "       [357.5632981 ],\n",
       "       [358.10839393],\n",
       "       [358.85172292],\n",
       "       [360.98259331],\n",
       "       [365.29390751],\n",
       "       [365.44256726],\n",
       "       [383.67889911],\n",
       "       [375.55185363],\n",
       "       [374.31297198],\n",
       "       [374.56074831],\n",
       "       [376.19606604],\n",
       "       [371.33965602],\n",
       "       [371.2900826 ],\n",
       "       [380.06137074],\n",
       "       [379.91271099],\n",
       "       [389.77422104],\n",
       "       [385.41333343],\n",
       "       [383.4806962 ],\n",
       "       [380.95335948],\n",
       "       [369.30787196],\n",
       "       [362.37013471],\n",
       "       [352.95463416],\n",
       "       [359.248159  ],\n",
       "       [350.97242352],\n",
       "       [357.11728861],\n",
       "       [351.56709276],\n",
       "       [369.55564829],\n",
       "       [375.70051338],\n",
       "       [375.10584414],\n",
       "       [381.84537847],\n",
       "       [393.34217599],\n",
       "       [385.85934292]])"
      ]
     },
     "execution_count": 37,
     "metadata": {},
     "output_type": "execute_result"
    }
   ],
   "source": [
    "y_train_pred=scaler.inverse_transform(y_train_pred)\n",
    "y_pred=scaler.inverse_transform(y_pred)\n",
    "\n",
    "y_pred"
   ]
  },
  {
   "cell_type": "code",
   "execution_count": 38,
   "metadata": {},
   "outputs": [],
   "source": [
    "#x_train =x_train.reshape(x_train.shape[0], 1)\n",
    "#x_test =x_test.reshape(x_test.shape[0], 1)"
   ]
  },
  {
   "cell_type": "code",
   "execution_count": 39,
   "metadata": {},
   "outputs": [
    {
     "name": "stdout",
     "output_type": "stream",
     "text": [
      "(305,)\n",
      "(1226, 1)\n",
      "(1226,)\n",
      "(305, 1)\n"
     ]
    }
   ],
   "source": [
    "print(y_test.shape) \n",
    "print(y_train_pred.shape)\n",
    "print(y_train.shape)\n",
    "print(y_pred.shape)"
   ]
  },
  {
   "cell_type": "code",
   "execution_count": 40,
   "metadata": {},
   "outputs": [
    {
     "name": "stdout",
     "output_type": "stream",
     "text": [
      "Training Linear Regression Root Mean Squared error is:258.5088730077754\n",
      "Training Linear Regression Mean Squared error is 66826.83742375013\n",
      "Test Linear Regression Root Mean Squared error is:319.4725104791585\n",
      "Test Linear Regression Mean Squared error is 102062.68495185603\n"
     ]
    }
   ],
   "source": [
    "### Calculate RMSE performance metrics\n",
    "import math\n",
    "from sklearn.metrics import mean_squared_error\n",
    "print(\"Training Linear Regression Root Mean Squared error is:{}\". format(math.sqrt(mean_squared_error(y_train,y_train_pred))))\n",
    "print(\"Training Linear Regression Mean Squared error is {}\".format(mean_squared_error(y_train,y_train_pred)))\n",
    "\n",
    "print(\"Test Linear Regression Root Mean Squared error is:{}\". format(math.sqrt(mean_squared_error(y_test,y_pred))))\n",
    "print(\"Test Linear Regression Mean Squared error is {}\".format(mean_squared_error(y_test,y_pred)))\n"
   ]
  },
  {
   "cell_type": "code",
   "execution_count": 109,
   "metadata": {},
   "outputs": [
    {
     "data": {
      "text/plain": [
       "array([[272.24397477],\n",
       "       [273.05172803],\n",
       "       [276.58998128],\n",
       "       ...,\n",
       "       [274.06267481],\n",
       "       [276.04488546],\n",
       "       [276.29266179]])"
      ]
     },
     "execution_count": 109,
     "metadata": {},
     "output_type": "execute_result"
    }
   ],
   "source": [
    "y_train_pred"
   ]
  },
  {
   "cell_type": "code",
   "execution_count": 111,
   "metadata": {},
   "outputs": [
    {
     "data": {
      "text/plain": [
       "array([[272.75998],\n",
       "       [273.5165 ],\n",
       "       [276.7847 ],\n",
       "       ...,\n",
       "       [274.45807],\n",
       "       [276.28632],\n",
       "       [276.5131 ]], dtype=float32)"
      ]
     },
     "execution_count": 111,
     "metadata": {},
     "output_type": "execute_result"
    }
   ],
   "source": [
    "train_predict"
   ]
  },
  {
   "cell_type": "code",
   "execution_count": null,
   "metadata": {},
   "outputs": [],
   "source": []
  },
  {
   "cell_type": "code",
   "execution_count": 41,
   "metadata": {},
   "outputs": [],
   "source": [
    "data_1 = pd.read_csv('KOTAKGOLD.csv')"
   ]
  },
  {
   "cell_type": "code",
   "execution_count": 42,
   "metadata": {},
   "outputs": [],
   "source": [
    "data = data_1[['Adj Close']]"
   ]
  },
  {
   "cell_type": "code",
   "execution_count": 43,
   "metadata": {},
   "outputs": [],
   "source": [
    "from sklearn.preprocessing import MinMaxScaler\n",
    "scaler=MinMaxScaler(feature_range=(0,1))\n",
    "data=scaler.fit_transform(np.array(data).reshape(-1,1))"
   ]
  },
  {
   "cell_type": "code",
   "execution_count": 44,
   "metadata": {},
   "outputs": [],
   "source": [
    "#Split data 80% training 20% testing\n",
    "\n",
    "training_size=int(len(data)*0.8)\n",
    "test_size=len(data)-training_size\n",
    "train_data,test_data=data[0:training_size],data[training_size:len(data)]"
   ]
  },
  {
   "cell_type": "code",
   "execution_count": 45,
   "metadata": {},
   "outputs": [],
   "source": [
    "def create_dataset(dataset, time_step=1):\n",
    "    dataX, dataY = [], []\n",
    "    for i in range(len(dataset)-time_step-1):\n",
    "        a = dataset[i:(i+time_step), 0]   ###i=0, 0,1,2,3-----99   100 \n",
    "        dataX.append(a)\n",
    "        dataY.append(dataset[i + time_step, 0])\n",
    "    return numpy.array(dataX), numpy.array(dataY)"
   ]
  },
  {
   "cell_type": "code",
   "execution_count": 46,
   "metadata": {},
   "outputs": [],
   "source": [
    "#reshape into X=t,t+1,t+2,t+3 and Y=t+4\n",
    "time_step = 1\n",
    "x_train, y_train = create_dataset(train_data, time_step)\n",
    "x_test, y_test = create_dataset(test_data, time_step)\n",
    "#x_train, x_test, y_train, y_test = train_test_split(X, y, test_size = 0.2)"
   ]
  },
  {
   "cell_type": "code",
   "execution_count": 47,
   "metadata": {},
   "outputs": [],
   "source": [
    "# reshape input to be [samples, time steps, features] which is required for LSTM\n",
    "x_train =x_train.reshape(x_train.shape[0],x_train.shape[1] , 1)\n",
    "x_test = x_test.reshape(x_test.shape[0],x_test.shape[1] , 1)"
   ]
  },
  {
   "cell_type": "code",
   "execution_count": null,
   "metadata": {},
   "outputs": [],
   "source": []
  },
  {
   "cell_type": "code",
   "execution_count": 92,
   "metadata": {},
   "outputs": [],
   "source": [
    "### Create the Stacked LSTM model\n",
    "from tensorflow.keras.models import Sequential\n",
    "from tensorflow.keras.layers import Dense\n",
    "from tensorflow.keras.layers import LSTM\n",
    "from keras.layers import Dropout"
   ]
  },
  {
   "cell_type": "code",
   "execution_count": 49,
   "metadata": {},
   "outputs": [
    {
     "data": {
      "text/plain": [
       "'channels_last'"
      ]
     },
     "execution_count": 49,
     "metadata": {},
     "output_type": "execute_result"
    }
   ],
   "source": [
    "from keras import backend as K\n",
    "K.set_image_data_format('channels_last')  \n",
    "keras.backend.image_data_format()  "
   ]
  },
  {
   "cell_type": "code",
   "execution_count": 101,
   "metadata": {},
   "outputs": [],
   "source": [
    "model=Sequential()\n",
    "model.add(LSTM(50,return_sequences=True,input_shape=(200,1)))\n",
    "model.add(Dropout(0.2))\n",
    "model.add(LSTM(50,return_sequences=True))\n",
    "model.add(Dropout(0.2))\n",
    "model.add(LSTM(50,return_sequences=True))\n",
    "model.add(Dropout(0.2))\n",
    "model.add(LSTM(50,return_sequences=True))\n",
    "model.add(Dropout(0.2))\n",
    "model.add(LSTM(50))\n",
    "model.add(Dense(1))\n",
    "model.compile(loss='mean_squared_error',optimizer='adam')"
   ]
  },
  {
   "cell_type": "code",
   "execution_count": 102,
   "metadata": {
    "scrolled": false
   },
   "outputs": [
    {
     "name": "stdout",
     "output_type": "stream",
     "text": [
      "Model: \"sequential_5\"\n",
      "_________________________________________________________________\n",
      "Layer (type)                 Output Shape              Param #   \n",
      "=================================================================\n",
      "lstm_18 (LSTM)               (None, 200, 50)           10400     \n",
      "_________________________________________________________________\n",
      "dropout_4 (Dropout)          (None, 200, 50)           0         \n",
      "_________________________________________________________________\n",
      "lstm_19 (LSTM)               (None, 200, 50)           20200     \n",
      "_________________________________________________________________\n",
      "dropout_5 (Dropout)          (None, 200, 50)           0         \n",
      "_________________________________________________________________\n",
      "lstm_20 (LSTM)               (None, 200, 50)           20200     \n",
      "_________________________________________________________________\n",
      "dropout_6 (Dropout)          (None, 200, 50)           0         \n",
      "_________________________________________________________________\n",
      "lstm_21 (LSTM)               (None, 200, 50)           20200     \n",
      "_________________________________________________________________\n",
      "dropout_7 (Dropout)          (None, 200, 50)           0         \n",
      "_________________________________________________________________\n",
      "lstm_22 (LSTM)               (None, 50)                20200     \n",
      "_________________________________________________________________\n",
      "dense_4 (Dense)              (None, 1)                 51        \n",
      "=================================================================\n",
      "Total params: 91,251\n",
      "Trainable params: 91,251\n",
      "Non-trainable params: 0\n",
      "_________________________________________________________________\n"
     ]
    }
   ],
   "source": [
    "model.summary()"
   ]
  },
  {
   "cell_type": "code",
   "execution_count": 103,
   "metadata": {},
   "outputs": [
    {
     "name": "stdout",
     "output_type": "stream",
     "text": [
      "Epoch 1/100\n",
      "WARNING:tensorflow:Model was constructed with shape (None, 200, 1) for input Tensor(\"lstm_18_input:0\", shape=(None, 200, 1), dtype=float32), but it was called on an input with incompatible shape (None, 1, 1).\n",
      "WARNING:tensorflow:Model was constructed with shape (None, 200, 1) for input Tensor(\"lstm_18_input:0\", shape=(None, 200, 1), dtype=float32), but it was called on an input with incompatible shape (None, 1, 1).\n",
      "19/20 [===========================>..] - ETA: 0s - loss: 0.0337WARNING:tensorflow:Model was constructed with shape (None, 200, 1) for input Tensor(\"lstm_18_input:0\", shape=(None, 200, 1), dtype=float32), but it was called on an input with incompatible shape (None, 1, 1).\n",
      "20/20 [==============================] - 2s 92ms/step - loss: 0.0336 - val_loss: 0.2341\n",
      "Epoch 2/100\n",
      "20/20 [==============================] - 0s 6ms/step - loss: 0.0102 - val_loss: 0.1190\n",
      "Epoch 3/100\n",
      "20/20 [==============================] - 0s 7ms/step - loss: 0.0067 - val_loss: 0.1528\n",
      "Epoch 4/100\n",
      "20/20 [==============================] - 0s 6ms/step - loss: 0.0063 - val_loss: 0.1368\n",
      "Epoch 5/100\n",
      "20/20 [==============================] - 0s 6ms/step - loss: 0.0060 - val_loss: 0.1350\n",
      "Epoch 6/100\n",
      "20/20 [==============================] - 0s 6ms/step - loss: 0.0057 - val_loss: 0.1243\n",
      "Epoch 7/100\n",
      "20/20 [==============================] - 0s 6ms/step - loss: 0.0050 - val_loss: 0.0785\n",
      "Epoch 8/100\n",
      "20/20 [==============================] - 0s 6ms/step - loss: 0.0030 - val_loss: 0.0069\n",
      "Epoch 9/100\n",
      "20/20 [==============================] - 0s 6ms/step - loss: 6.6165e-04 - val_loss: 0.0461\n",
      "Epoch 10/100\n",
      "20/20 [==============================] - 0s 6ms/step - loss: 4.9704e-04 - val_loss: 0.0025\n",
      "Epoch 11/100\n",
      "20/20 [==============================] - 0s 6ms/step - loss: 5.1195e-04 - val_loss: 0.0040\n",
      "Epoch 12/100\n",
      "20/20 [==============================] - 0s 6ms/step - loss: 4.0420e-04 - val_loss: 0.0019\n",
      "Epoch 13/100\n",
      "20/20 [==============================] - 0s 6ms/step - loss: 3.8905e-04 - val_loss: 6.3188e-04\n",
      "Epoch 14/100\n",
      "20/20 [==============================] - 0s 6ms/step - loss: 3.8940e-04 - val_loss: 5.1441e-04\n",
      "Epoch 15/100\n",
      "20/20 [==============================] - 0s 6ms/step - loss: 3.3516e-04 - val_loss: 0.0011\n",
      "Epoch 16/100\n",
      "20/20 [==============================] - 0s 7ms/step - loss: 3.3133e-04 - val_loss: 0.0015\n",
      "Epoch 17/100\n",
      "20/20 [==============================] - 0s 7ms/step - loss: 3.0895e-04 - val_loss: 0.0018\n",
      "Epoch 18/100\n",
      "20/20 [==============================] - 0s 7ms/step - loss: 3.0658e-04 - val_loss: 0.0027\n",
      "Epoch 19/100\n",
      "20/20 [==============================] - 0s 7ms/step - loss: 3.0170e-04 - val_loss: 0.0030\n",
      "Epoch 20/100\n",
      "20/20 [==============================] - 0s 6ms/step - loss: 3.0335e-04 - val_loss: 0.0029\n",
      "Epoch 21/100\n",
      "20/20 [==============================] - 0s 6ms/step - loss: 3.1214e-04 - val_loss: 0.0043\n",
      "Epoch 22/100\n",
      "20/20 [==============================] - 0s 6ms/step - loss: 2.8602e-04 - val_loss: 0.0052\n",
      "Epoch 23/100\n",
      "20/20 [==============================] - 0s 6ms/step - loss: 2.9915e-04 - val_loss: 0.0050\n",
      "Epoch 24/100\n",
      "20/20 [==============================] - 0s 6ms/step - loss: 2.9606e-04 - val_loss: 0.0046\n",
      "Epoch 25/100\n",
      "20/20 [==============================] - 0s 6ms/step - loss: 2.7976e-04 - val_loss: 0.0064\n",
      "Epoch 26/100\n",
      "20/20 [==============================] - 0s 6ms/step - loss: 2.9636e-04 - val_loss: 0.0042\n",
      "Epoch 27/100\n",
      "20/20 [==============================] - 0s 6ms/step - loss: 2.9983e-04 - val_loss: 0.0077\n",
      "Epoch 28/100\n",
      "20/20 [==============================] - 0s 7ms/step - loss: 3.0483e-04 - val_loss: 0.0048\n",
      "Epoch 29/100\n",
      "20/20 [==============================] - 0s 7ms/step - loss: 2.7855e-04 - val_loss: 0.0068\n",
      "Epoch 30/100\n",
      "20/20 [==============================] - 0s 6ms/step - loss: 2.6453e-04 - val_loss: 0.0048\n",
      "Epoch 31/100\n",
      "20/20 [==============================] - 0s 6ms/step - loss: 2.9812e-04 - val_loss: 0.0058\n",
      "Epoch 32/100\n",
      "20/20 [==============================] - 0s 6ms/step - loss: 2.6710e-04 - val_loss: 0.0049\n",
      "Epoch 33/100\n",
      "20/20 [==============================] - 0s 7ms/step - loss: 2.8916e-04 - val_loss: 0.0057\n",
      "Epoch 34/100\n",
      "20/20 [==============================] - 0s 6ms/step - loss: 2.9283e-04 - val_loss: 0.0075\n",
      "Epoch 35/100\n",
      "20/20 [==============================] - 0s 6ms/step - loss: 2.8735e-04 - val_loss: 0.0060\n",
      "Epoch 36/100\n",
      "20/20 [==============================] - 0s 6ms/step - loss: 2.8497e-04 - val_loss: 0.0061\n",
      "Epoch 37/100\n",
      "20/20 [==============================] - 0s 6ms/step - loss: 2.8109e-04 - val_loss: 0.0060\n",
      "Epoch 38/100\n",
      "20/20 [==============================] - 0s 6ms/step - loss: 2.8345e-04 - val_loss: 0.0059\n",
      "Epoch 39/100\n",
      "20/20 [==============================] - 0s 7ms/step - loss: 2.5131e-04 - val_loss: 0.0044\n",
      "Epoch 40/100\n",
      "20/20 [==============================] - 0s 6ms/step - loss: 2.5061e-04 - val_loss: 0.0054\n",
      "Epoch 41/100\n",
      "20/20 [==============================] - 0s 7ms/step - loss: 2.6920e-04 - val_loss: 0.0041\n",
      "Epoch 42/100\n",
      "20/20 [==============================] - 0s 6ms/step - loss: 2.6043e-04 - val_loss: 0.0062\n",
      "Epoch 43/100\n",
      "20/20 [==============================] - 0s 6ms/step - loss: 2.8699e-04 - val_loss: 0.0059\n",
      "Epoch 44/100\n",
      "20/20 [==============================] - 0s 6ms/step - loss: 2.7425e-04 - val_loss: 0.0053\n",
      "Epoch 45/100\n",
      "20/20 [==============================] - 0s 6ms/step - loss: 2.7493e-04 - val_loss: 0.0058\n",
      "Epoch 46/100\n",
      "20/20 [==============================] - 0s 6ms/step - loss: 2.6844e-04 - val_loss: 0.0059\n",
      "Epoch 47/100\n",
      "20/20 [==============================] - 0s 6ms/step - loss: 2.4967e-04 - val_loss: 0.0063\n",
      "Epoch 48/100\n",
      "20/20 [==============================] - 0s 7ms/step - loss: 2.8464e-04 - val_loss: 0.0052\n",
      "Epoch 49/100\n",
      "20/20 [==============================] - 0s 6ms/step - loss: 2.6423e-04 - val_loss: 0.0062\n",
      "Epoch 50/100\n",
      "20/20 [==============================] - 0s 6ms/step - loss: 2.6434e-04 - val_loss: 0.0061\n",
      "Epoch 51/100\n",
      "20/20 [==============================] - 0s 6ms/step - loss: 2.6373e-04 - val_loss: 0.0045\n",
      "Epoch 52/100\n",
      "20/20 [==============================] - 0s 6ms/step - loss: 2.5162e-04 - val_loss: 0.0062\n",
      "Epoch 53/100\n",
      "20/20 [==============================] - 0s 6ms/step - loss: 2.3854e-04 - val_loss: 0.0043\n",
      "Epoch 54/100\n",
      "20/20 [==============================] - 0s 6ms/step - loss: 2.6264e-04 - val_loss: 0.0051\n",
      "Epoch 55/100\n",
      "20/20 [==============================] - 0s 6ms/step - loss: 2.4576e-04 - val_loss: 0.0060\n",
      "Epoch 56/100\n",
      "20/20 [==============================] - 0s 6ms/step - loss: 2.6572e-04 - val_loss: 0.0054\n",
      "Epoch 57/100\n",
      "20/20 [==============================] - 0s 6ms/step - loss: 2.6723e-04 - val_loss: 0.0085\n",
      "Epoch 58/100\n",
      "20/20 [==============================] - 0s 6ms/step - loss: 2.7463e-04 - val_loss: 0.0058\n",
      "Epoch 59/100\n",
      "20/20 [==============================] - 0s 7ms/step - loss: 2.7504e-04 - val_loss: 0.0075\n",
      "Epoch 60/100\n",
      "20/20 [==============================] - 0s 7ms/step - loss: 2.6536e-04 - val_loss: 0.0073\n",
      "Epoch 61/100\n",
      "20/20 [==============================] - 0s 6ms/step - loss: 2.6694e-04 - val_loss: 0.0076\n",
      "Epoch 62/100\n",
      "20/20 [==============================] - 0s 6ms/step - loss: 2.6758e-04 - val_loss: 0.0076\n",
      "Epoch 63/100\n",
      "20/20 [==============================] - 0s 6ms/step - loss: 2.5169e-04 - val_loss: 0.0082\n",
      "Epoch 64/100\n",
      "20/20 [==============================] - 0s 6ms/step - loss: 2.6943e-04 - val_loss: 0.0089\n",
      "Epoch 65/100\n",
      "20/20 [==============================] - 0s 6ms/step - loss: 2.8738e-04 - val_loss: 0.0066\n",
      "Epoch 66/100\n",
      "20/20 [==============================] - 0s 6ms/step - loss: 2.6116e-04 - val_loss: 0.0076\n",
      "Epoch 67/100\n",
      "20/20 [==============================] - 0s 6ms/step - loss: 2.5710e-04 - val_loss: 0.0078\n",
      "Epoch 68/100\n",
      "20/20 [==============================] - 0s 7ms/step - loss: 2.5438e-04 - val_loss: 0.0076\n",
      "Epoch 69/100\n",
      "20/20 [==============================] - 0s 7ms/step - loss: 2.5611e-04 - val_loss: 0.0084\n",
      "Epoch 70/100\n",
      "20/20 [==============================] - 0s 6ms/step - loss: 2.4650e-04 - val_loss: 0.0072\n",
      "Epoch 71/100\n",
      "20/20 [==============================] - 0s 6ms/step - loss: 2.4941e-04 - val_loss: 0.0087\n",
      "Epoch 72/100\n",
      "20/20 [==============================] - 0s 6ms/step - loss: 2.5208e-04 - val_loss: 0.0084\n",
      "Epoch 73/100\n",
      "20/20 [==============================] - 0s 6ms/step - loss: 2.5447e-04 - val_loss: 0.0061\n",
      "Epoch 74/100\n",
      "20/20 [==============================] - 0s 6ms/step - loss: 2.7911e-04 - val_loss: 0.0080\n",
      "Epoch 75/100\n",
      "20/20 [==============================] - 0s 6ms/step - loss: 2.6754e-04 - val_loss: 0.0086\n",
      "Epoch 76/100\n",
      "20/20 [==============================] - 0s 6ms/step - loss: 2.6225e-04 - val_loss: 0.0080\n",
      "Epoch 77/100\n",
      "20/20 [==============================] - 0s 6ms/step - loss: 2.4813e-04 - val_loss: 0.0093\n",
      "Epoch 78/100\n",
      "20/20 [==============================] - 0s 6ms/step - loss: 2.6201e-04 - val_loss: 0.0087\n",
      "Epoch 79/100\n",
      "20/20 [==============================] - 0s 6ms/step - loss: 2.5175e-04 - val_loss: 0.0078\n",
      "Epoch 80/100\n",
      "20/20 [==============================] - 0s 6ms/step - loss: 2.5086e-04 - val_loss: 0.0077\n",
      "Epoch 81/100\n",
      "20/20 [==============================] - 0s 7ms/step - loss: 2.6068e-04 - val_loss: 0.0082\n",
      "Epoch 82/100\n",
      "20/20 [==============================] - 0s 6ms/step - loss: 2.6587e-04 - val_loss: 0.0084\n",
      "Epoch 83/100\n",
      "20/20 [==============================] - 0s 6ms/step - loss: 2.3685e-04 - val_loss: 0.0098\n",
      "Epoch 84/100\n",
      "20/20 [==============================] - 0s 6ms/step - loss: 2.4932e-04 - val_loss: 0.0129\n",
      "Epoch 85/100\n",
      "20/20 [==============================] - 0s 6ms/step - loss: 3.0385e-04 - val_loss: 0.0125\n",
      "Epoch 86/100\n",
      "20/20 [==============================] - 0s 6ms/step - loss: 2.5863e-04 - val_loss: 0.0112\n",
      "Epoch 87/100\n",
      "20/20 [==============================] - 0s 6ms/step - loss: 2.4691e-04 - val_loss: 0.0125\n",
      "Epoch 88/100\n",
      "20/20 [==============================] - 0s 6ms/step - loss: 2.5064e-04 - val_loss: 0.0119\n",
      "Epoch 89/100\n",
      "20/20 [==============================] - 0s 6ms/step - loss: 2.5351e-04 - val_loss: 0.0110\n",
      "Epoch 90/100\n",
      "20/20 [==============================] - 0s 6ms/step - loss: 2.4318e-04 - val_loss: 0.0101\n",
      "Epoch 91/100\n",
      "20/20 [==============================] - 0s 6ms/step - loss: 2.6875e-04 - val_loss: 0.0125\n",
      "Epoch 92/100\n",
      "20/20 [==============================] - 0s 7ms/step - loss: 2.4913e-04 - val_loss: 0.0133\n",
      "Epoch 93/100\n",
      "20/20 [==============================] - 0s 6ms/step - loss: 2.4277e-04 - val_loss: 0.0110\n",
      "Epoch 94/100\n",
      "20/20 [==============================] - 0s 6ms/step - loss: 2.5880e-04 - val_loss: 0.0146\n",
      "Epoch 95/100\n",
      "20/20 [==============================] - 0s 6ms/step - loss: 2.4003e-04 - val_loss: 0.0111\n",
      "Epoch 96/100\n",
      "20/20 [==============================] - 0s 6ms/step - loss: 2.3940e-04 - val_loss: 0.0144\n",
      "Epoch 97/100\n",
      "20/20 [==============================] - 0s 6ms/step - loss: 2.3634e-04 - val_loss: 0.0151\n",
      "Epoch 98/100\n",
      "20/20 [==============================] - 0s 6ms/step - loss: 2.3988e-04 - val_loss: 0.0158\n",
      "Epoch 99/100\n",
      "20/20 [==============================] - 0s 6ms/step - loss: 2.5067e-04 - val_loss: 0.0160\n",
      "Epoch 100/100\n",
      "20/20 [==============================] - 0s 6ms/step - loss: 2.6974e-04 - val_loss: 0.0180\n"
     ]
    },
    {
     "data": {
      "text/plain": [
       "<tensorflow.python.keras.callbacks.History at 0x7fae6e3907f0>"
      ]
     },
     "execution_count": 103,
     "metadata": {},
     "output_type": "execute_result"
    }
   ],
   "source": [
    "model.fit(x_train,y_train,validation_data=(x_test,y_test),epochs=100,batch_size=64,verbose=1)"
   ]
  },
  {
   "cell_type": "code",
   "execution_count": 104,
   "metadata": {},
   "outputs": [],
   "source": [
    "import tensorflow as tf"
   ]
  },
  {
   "cell_type": "code",
   "execution_count": 105,
   "metadata": {},
   "outputs": [
    {
     "name": "stdout",
     "output_type": "stream",
     "text": [
      "WARNING:tensorflow:Model was constructed with shape (None, 200, 1) for input Tensor(\"lstm_18_input:0\", shape=(None, 200, 1), dtype=float32), but it was called on an input with incompatible shape (None, 1, 1).\n"
     ]
    }
   ],
   "source": [
    "### Lets Do the prediction and check performance metrics\n",
    "train_predict=model.predict(x_train)\n",
    "test_predict=model.predict(x_test)"
   ]
  },
  {
   "cell_type": "code",
   "execution_count": 106,
   "metadata": {},
   "outputs": [],
   "source": [
    "##Transformback to original form\n",
    "train_predict=scaler.inverse_transform(train_predict)\n",
    "test_predict=scaler.inverse_transform(test_predict)"
   ]
  },
  {
   "cell_type": "code",
   "execution_count": 107,
   "metadata": {},
   "outputs": [
    {
     "name": "stdout",
     "output_type": "stream",
     "text": [
      "Training Linear Regression Root Mean Squared error is:259.2850368678318\n",
      "Traning Linear Regression Mean Squared error is 67228.7303435529\n"
     ]
    }
   ],
   "source": [
    "### Calculate RMSE performance metrics\n",
    "import math\n",
    "from sklearn.metrics import mean_squared_error\n",
    "math.sqrt(mean_squared_error(y_train,train_predict))\n",
    "print(\"Training Linear Regression Root Mean Squared error is:{}\". format(math.sqrt(mean_squared_error(y_train,train_predict))))\n",
    "print(\"Traning Linear Regression Mean Squared error is {}\".format(mean_squared_error(y_train,train_predict)))\n",
    "\n"
   ]
  },
  {
   "cell_type": "code",
   "execution_count": 108,
   "metadata": {},
   "outputs": [
    {
     "name": "stdout",
     "output_type": "stream",
     "text": [
      "Test Linear Regression Root Mean Squared error is:302.0999354434231\n",
      "Test Linear Regression Mean Squared error is 91264.3709949204\n"
     ]
    }
   ],
   "source": [
    "### Test Data RMSE\n",
    "print(\"Test Linear Regression Root Mean Squared error is:{}\". format(math.sqrt(mean_squared_error(y_test,test_predict))))\n",
    "print(\"Test Linear Regression Mean Squared error is {}\".format(mean_squared_error(y_test,test_predict)))\n"
   ]
  },
  {
   "cell_type": "markdown",
   "metadata": {
    "scrolled": true
   },
   "source": [
    "### shift train predictions for plotting\n",
    "look_back=100\n",
    "trainPredictPlot = numpy.empty_like(data)\n",
    "trainPredictPlot[:, :] = np.nan\n",
    "trainPredictPlot[look_back:len(train_predict)+look_back, :] = train_predict\n",
    "# shift test predictions for plotting\n",
    "testPredictPlot = numpy.empty_like(data)\n",
    "testPredictPlot[:, :] = numpy.nan\n",
    "testPredictPlot[len(train_predict)+(look_back*2)-196:len(data)+100, :] = test_predict\n",
    "# plot baseline and predictions\n",
    "plt.plot(scaler.inverse_transform(data))\n",
    "plt.plot(trainPredictPlot)\n",
    "plt.plot(testPredictPlot)\n",
    "plt.legend(['Original','Training', 'Test'])\n",
    "plt.show()\n"
   ]
  },
  {
   "cell_type": "code",
   "execution_count": 58,
   "metadata": {},
   "outputs": [
    {
     "data": {
      "text/plain": [
       "1535"
      ]
     },
     "execution_count": 58,
     "metadata": {},
     "output_type": "execute_result"
    }
   ],
   "source": [
    "len(data)"
   ]
  },
  {
   "cell_type": "code",
   "execution_count": 59,
   "metadata": {},
   "outputs": [
    {
     "data": {
      "text/plain": [
       "(1, 1)"
      ]
     },
     "execution_count": 59,
     "metadata": {},
     "output_type": "execute_result"
    }
   ],
   "source": [
    "#Predicting to next 1 day data using previous 7 days\n",
    "x_input=data[len(data)-1:].reshape(1,-1)\n",
    "x_input.shape"
   ]
  },
  {
   "cell_type": "code",
   "execution_count": 60,
   "metadata": {},
   "outputs": [],
   "source": [
    "temp_input=list(x_input)\n",
    "temp_input=temp_input[0].tolist()"
   ]
  },
  {
   "cell_type": "code",
   "execution_count": 61,
   "metadata": {},
   "outputs": [
    {
     "data": {
      "text/plain": [
       "1"
      ]
     },
     "execution_count": 61,
     "metadata": {},
     "output_type": "execute_result"
    }
   ],
   "source": [
    "len(temp_input)"
   ]
  },
  {
   "cell_type": "code",
   "execution_count": 62,
   "metadata": {
    "scrolled": true
   },
   "outputs": [
    {
     "data": {
      "text/plain": [
       "[0.9876135431511226]"
      ]
     },
     "execution_count": 62,
     "metadata": {},
     "output_type": "execute_result"
    }
   ],
   "source": [
    "temp_input"
   ]
  },
  {
   "cell_type": "code",
   "execution_count": 63,
   "metadata": {},
   "outputs": [
    {
     "name": "stdout",
     "output_type": "stream",
     "text": [
      "[0.8174825]\n",
      "2\n",
      "1 day input [0.81748247]\n",
      "1 day output [[0.7222689]]\n",
      "2 day input [0.72226888]\n",
      "2 day output [[0.6592852]]\n",
      "3 day input [0.65928519]\n",
      "3 day output [[0.6136674]]\n",
      "4 day input [0.61366743]\n",
      "4 day output [[0.5786799]]\n",
      "5 day input [0.57867992]\n",
      "5 day output [[0.5507626]]\n",
      "6 day input [0.55076259]\n",
      "6 day output [[0.5278318]]\n",
      "[[0.8174824714660645], [0.7222688794136047], [0.6592851877212524], [0.6136674284934998], [0.5786799192428589], [0.5507625937461853], [0.5278317928314209]]\n"
     ]
    }
   ],
   "source": [
    "from numpy import array\n",
    "\n",
    "lst_output=[]\n",
    "n_steps=1\n",
    "i=0\n",
    "while(i<7):\n",
    "    \n",
    "    if(len(temp_input)>1):\n",
    "        #print(temp_input)\n",
    "        x_input=np.array(temp_input[1:])\n",
    "        print(\"{} day input {}\".format(i,x_input))\n",
    "        x_input=x_input.reshape(1,-1)\n",
    "        x_input = x_input.reshape((1, n_steps, 1))\n",
    "        #print(x_input)\n",
    "        yhat = model.predict(x_input, verbose=0)\n",
    "        print(\"{} day output {}\".format(i,yhat))\n",
    "        temp_input.extend(yhat[0].tolist())\n",
    "        temp_input=temp_input[1:]\n",
    "        #print(temp_input)\n",
    "        lst_output.extend(yhat.tolist())\n",
    "        i=i+1\n",
    "    else:\n",
    "        x_input = x_input.reshape((1, n_steps,1))\n",
    "        yhat = model.predict(x_input, verbose=0)\n",
    "        print(yhat[0])\n",
    "        temp_input.extend(yhat[0].tolist())\n",
    "        print(len(temp_input))\n",
    "        lst_output.extend(yhat.tolist())\n",
    "        i=i+1\n",
    "    \n",
    "\n",
    "print(lst_output)"
   ]
  },
  {
   "cell_type": "code",
   "execution_count": 64,
   "metadata": {},
   "outputs": [],
   "source": [
    "day_new=np.arange(1,len(lst_output)+1)\n",
    "day_pred=np.arange(len(lst_output)+1,len(lst_output)+8)"
   ]
  },
  {
   "cell_type": "code",
   "execution_count": 65,
   "metadata": {},
   "outputs": [],
   "source": [
    "import matplotlib.pyplot as plt"
   ]
  },
  {
   "cell_type": "code",
   "execution_count": 66,
   "metadata": {},
   "outputs": [
    {
     "data": {
      "text/plain": [
       "1535"
      ]
     },
     "execution_count": 66,
     "metadata": {},
     "output_type": "execute_result"
    }
   ],
   "source": [
    "len(data)"
   ]
  },
  {
   "cell_type": "code",
   "execution_count": 67,
   "metadata": {},
   "outputs": [
    {
     "data": {
      "text/plain": [
       "[[0.8174824714660645],\n",
       " [0.7222688794136047],\n",
       " [0.6592851877212524],\n",
       " [0.6136674284934998],\n",
       " [0.5786799192428589],\n",
       " [0.5507625937461853],\n",
       " [0.5278317928314209]]"
      ]
     },
     "execution_count": 67,
     "metadata": {},
     "output_type": "execute_result"
    }
   ],
   "source": [
    "lst_output"
   ]
  },
  {
   "cell_type": "code",
   "execution_count": 68,
   "metadata": {},
   "outputs": [
    {
     "data": {
      "text/plain": [
       "array([ 8,  9, 10, 11, 12, 13, 14])"
      ]
     },
     "execution_count": 68,
     "metadata": {},
     "output_type": "execute_result"
    }
   ],
   "source": [
    "day_pred"
   ]
  },
  {
   "cell_type": "code",
   "execution_count": 69,
   "metadata": {},
   "outputs": [],
   "source": [
    "tx = scaler.inverse_transform(lst_output)"
   ]
  },
  {
   "cell_type": "code",
   "execution_count": 70,
   "metadata": {},
   "outputs": [
    {
     "data": {
      "text/plain": [
       "[<matplotlib.lines.Line2D at 0x7fae7c2e64e0>]"
      ]
     },
     "execution_count": 70,
     "metadata": {},
     "output_type": "execute_result"
    },
    {
     "data": {
      "image/png": "[encoded data removed]",
      "text/plain": [
       "<Figure size 432x288 with 1 Axes>"
      ]
     },
     "metadata": {
      "needs_background": "light"
     },
     "output_type": "display_data"
    }
   ],
   "source": [
    "plt.plot(day_new,scaler.inverse_transform(data[len(data)-7:]))\n",
    "plt.plot(day_pred,tx)"
   ]
  },
  {
   "cell_type": "code",
   "execution_count": 71,
   "metadata": {},
   "outputs": [
    {
     "data": {
      "text/plain": [
       "[<matplotlib.lines.Line2D at 0x7fae7c283048>]"
      ]
     },
     "execution_count": 71,
     "metadata": {},
     "output_type": "execute_result"
    },
    {
     "data": {
      "image/png": "[encoded data removed]",
      "text/plain": [
       "<Figure size 432x288 with 1 Axes>"
      ]
     },
     "metadata": {
      "needs_background": "light"
     },
     "output_type": "display_data"
    }
   ],
   "source": [
    "df3=data.tolist()\n",
    "df3.extend(lst_output)\n",
    "plt.plot(df3[1500:])"
   ]
  },
  {
   "cell_type": "code",
   "execution_count": 72,
   "metadata": {},
   "outputs": [],
   "source": [
    "df3=scaler.inverse_transform(df3).tolist()"
   ]
  },
  {
   "cell_type": "code",
   "execution_count": 73,
   "metadata": {
    "scrolled": true
   },
   "outputs": [
    {
     "data": {
      "text/plain": [
       "[<matplotlib.lines.Line2D at 0x7fae7c229630>]"
      ]
     },
     "execution_count": 73,
     "metadata": {},
     "output_type": "execute_result"
    },
    {
     "data": {
      "image/png": "[encoded data removed]",
      "text/plain": [
       "<Figure size 432x288 with 1 Axes>"
      ]
     },
     "metadata": {
      "needs_background": "light"
     },
     "output_type": "display_data"
    }
   ],
   "source": [
    "plt.plot(df3)"
   ]
  },
  {
   "cell_type": "code",
   "execution_count": null,
   "metadata": {},
   "outputs": [],
   "source": []
  },
  {
   "cell_type": "code",
   "execution_count": null,
   "metadata": {},
   "outputs": [],
   "source": []
  }
 ],
 "metadata": {
  "kernelspec": {
   "display_name": "conda_pytorch_p36",
   "language": "python",
   "name": "conda_pytorch_p36"
  },
  "language_info": {
   "codemirror_mode": {
    "name": "ipython",
    "version": 3
   },
   "file_extension": ".py",
   "mimetype": "text/x-python",
   "name": "python",
   "nbconvert_exporter": "python",
   "pygments_lexer": "ipython3",
   "version": "3.6.10"
  }
 },
 "nbformat": 4,
 "nbformat_minor": 4
}
